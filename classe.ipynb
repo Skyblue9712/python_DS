{
 "cells": [
  {
   "cell_type": "code",
   "execution_count": null,
   "metadata": {},
   "outputs": [],
   "source": []
  },
  {
   "cell_type": "markdown",
   "metadata": {},
   "source": []
  },
  {
   "cell_type": "code",
   "execution_count": 1,
   "metadata": {},
   "outputs": [],
   "source": [
    "class myclass:#declaring class\n",
    "     x=5#property"
   ]
  },
  {
   "cell_type": "code",
   "execution_count": 4,
   "metadata": {},
   "outputs": [
    {
     "name": "stdout",
     "output_type": "stream",
     "text": [
      "5\n"
     ]
    }
   ],
   "source": [
    "p1=myclass()# object creation\n",
    "print(p1.x) # calling an object"
   ]
  },
  {
   "cell_type": "code",
   "execution_count": 8,
   "metadata": {},
   "outputs": [
    {
     "name": "stdout",
     "output_type": "stream",
     "text": [
      "Akash\n",
      "23\n"
     ]
    }
   ],
   "source": [
    "class person:\n",
    "      def __init__(self,name,age): #constructor\n",
    "            self.name=name\n",
    "            self.age= age\n",
    "p1=person(\"Akash\",23)\n",
    "print(p1.name)\n",
    "print(p1.age)"
   ]
  },
  {
   "cell_type": "code",
   "execution_count": 10,
   "metadata": {},
   "outputs": [
    {
     "name": "stdout",
     "output_type": "stream",
     "text": [
      "buddy 3\n",
      "max 5\n"
     ]
    }
   ],
   "source": [
    "class dog:\n",
    "     def __init__(self,name,age):\n",
    "             self.name=name\n",
    "             self.age=age\n",
    "dog1= dog(\"buddy\",3)\n",
    "dog2= dog(\"max\",5)\n",
    "print(dog1.name,dog1.age)\n",
    "print(dog2.name,dog2.age)"
   ]
  },
  {
   "cell_type": "code",
   "execution_count": 11,
   "metadata": {},
   "outputs": [
    {
     "name": "stdout",
     "output_type": "stream",
     "text": [
      "Hello my name isjohn   My age is= 36\n"
     ]
    }
   ],
   "source": [
    "class person:\n",
    "    def __init__(self,name,age):\n",
    "         self.name=name\n",
    "         self.age=age\n",
    "    def myfunc(self):\n",
    "          print(\"Hello my name is\" + self.name , \"  My age is=\" ,self.age)\n",
    "p1=person(\"john\",36)\n",
    "p1.myfunc()\n",
    "         \n",
    "        "
   ]
  },
  {
   "cell_type": "markdown",
   "metadata": {},
   "source": [
    "##\n",
    "inheritance"
   ]
  },
  {
   "cell_type": "code",
   "execution_count": 5,
   "metadata": {},
   "outputs": [
    {
     "name": "stdout",
     "output_type": "stream",
     "text": [
      "buddy says woof!\n",
      "kitty says Meow!\n"
     ]
    }
   ],
   "source": [
    "#parent class \n",
    "class Animal:\n",
    "     def __init__(self,name):\n",
    "           self.name=name\n",
    "     def speak(self):\n",
    "           pass\n",
    "     \n",
    "#child1 class\n",
    "class Dog(Animal):\n",
    "      def speak(self):\n",
    "            return f'{self.name} says woof!'\n",
    "#child2 class\n",
    "class Cat(Animal):\n",
    "      def speak(self):\n",
    "            return f'{self.name} says Meow!'\n",
    "\n",
    "#object creation\n",
    "dog=Dog('buddy')\n",
    "cat=Cat('kitty')\n",
    "print(dog.speak())\n",
    "print(cat.speak())      "
   ]
  },
  {
   "cell_type": "markdown",
   "metadata": {},
   "source": []
  },
  {
   "cell_type": "code",
   "execution_count": 7,
   "metadata": {},
   "outputs": [
    {
     "name": "stdout",
     "output_type": "stream",
     "text": [
      "buddy says woof!\n",
      "this animal makes a sound\n"
     ]
    }
   ],
   "source": [
    "#parent class \n",
    "class Animal:\n",
    "     def __init__(self,name):\n",
    "           self.name=name\n",
    "     def speak(self):\n",
    "           return 'this animal makes a sound'\n",
    "     \n",
    "#child1 class\n",
    "class Dog(Animal):\n",
    "      def speak(self):\n",
    "            return f'{self.name} says woof!'\n",
    "#child2 class\n",
    "class Cat(Animal):\n",
    "\n",
    "          #no speak method in a cat\n",
    "           pass\n",
    "\n",
    "#object creation\n",
    "dog=Dog('buddy')\n",
    "cat=Cat('kitty')\n",
    "print(dog.speak())\n",
    "print(cat.speak())      "
   ]
  },
  {
   "cell_type": "code",
   "execution_count": 9,
   "metadata": {},
   "outputs": [
    {
     "name": "stdout",
     "output_type": "stream",
     "text": [
      "Hi! i am rahul, i am 28 years old, and my employee id is E2783.\n",
      "Hi! i am isha, i am 35 years old, and my department is finance.\n"
     ]
    }
   ],
   "source": [
    "class person: #parent class\n",
    "     def __init__(self,name,age):\n",
    "            self.name=name\n",
    "            self.age=age\n",
    "     def introduce(self):\n",
    "       return f'Hi! i am {self.name}, and i am {self.age} years old'\n",
    "     \n",
    "class Employee(person): # child class\n",
    "      def __init__(self,name,age,employee_id):\n",
    "            super().__init__(name,age)\n",
    "            self.employee_id=employee_id\n",
    "      def introduce(self):\n",
    "           return f'Hi! i am {self.name}, i am {self.age} years old, and my employee id is {self.employee_id}.'\n",
    "class Manager(person): # child class\n",
    "      def __init__(self,name,age,department):\n",
    "            super().__init__(name,age)\n",
    "            self.department=department\n",
    "      def introduce(self):\n",
    "           return f'Hi! i am {self.name}, i am {self.age} years old, and my department is {self.department}.'\n",
    "employee=Employee('rahul', 28, 'E2783')\n",
    "manager=Manager('isha',35,'finance')\n",
    "print(employee.introduce())\n",
    "print(manager.introduce())"
   ]
  }
 ],
 "metadata": {
  "kernelspec": {
   "display_name": "base",
   "language": "python",
   "name": "python3"
  },
  "language_info": {
   "codemirror_mode": {
    "name": "ipython",
    "version": 3
   },
   "file_extension": ".py",
   "mimetype": "text/x-python",
   "name": "python",
   "nbconvert_exporter": "python",
   "pygments_lexer": "ipython3",
   "version": "3.11.4"
  },
  "orig_nbformat": 4
 },
 "nbformat": 4,
 "nbformat_minor": 2
}
