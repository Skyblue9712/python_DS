{
 "cells": [
  {
   "cell_type": "markdown",
   "metadata": {},
   "source": [
    "Program to check is a number is positive or not.\n"
   ]
  },
  {
   "cell_type": "code",
   "execution_count": 3,
   "metadata": {},
   "outputs": [
    {
     "name": "stdout",
     "output_type": "stream",
     "text": [
      "Entered number is negative =  -54\n"
     ]
    }
   ],
   "source": [
    "x=int(input(\"enter any integer value\"))\n",
    "if x>0:\n",
    "    print(\"Entered number is positive = \",x)\n",
    "elif x<0:\n",
    "    print(\"Entered number is negative = \",x)\n",
    "else:\n",
    "    print(\"Entered number is neutral(zero) = \",x)    "
   ]
  },
  {
   "cell_type": "markdown",
   "metadata": {},
   "source": [
    "Program to check if a number is even or odd."
   ]
  },
  {
   "cell_type": "code",
   "execution_count": 11,
   "metadata": {},
   "outputs": [
    {
     "name": "stdout",
     "output_type": "stream",
     "text": [
      "odd number=  5\n"
     ]
    }
   ],
   "source": [
    "x=int(input(\"enter a number to check even or odd\"))\n",
    "if x==0:\n",
    "   print(\"entered number is neither even nor odd\")  \n",
    "elif x%2==0:\n",
    "    print(\"even number= \",x)\n",
    "else:\n",
    "    print(\"odd number= \",x)    \n",
    "  "
   ]
  },
  {
   "cell_type": "markdown",
   "metadata": {},
   "source": [
    "Program to check if a year is a leap year or not"
   ]
  },
  {
   "cell_type": "code",
   "execution_count": 7,
   "metadata": {},
   "outputs": [
    {
     "name": "stdout",
     "output_type": "stream",
     "text": [
      "not a leap year :  2023\n"
     ]
    }
   ],
   "source": [
    "year=int(input(\"ENTER ANY YEAR TO CHECK WHETHER IT IS A LEAP YEAR OR NOT \"))\n",
    "if year%4==0:\n",
    "    print(\"leap year : \",year)\n",
    "else:\n",
    "    print(\"not a leap year : \",year)"
   ]
  },
  {
   "cell_type": "markdown",
   "metadata": {},
   "source": [
    "Program to find the largest among three numbers"
   ]
  },
  {
   "cell_type": "code",
   "execution_count": 9,
   "metadata": {},
   "outputs": [
    {
     "data": {
      "text/plain": [
       "5"
      ]
     },
     "execution_count": 9,
     "metadata": {},
     "output_type": "execute_result"
    }
   ],
   "source": [
    "n1=int(input(\"first number\"))\n",
    "n2=int(input(\"second number\"))\n",
    "n3=int(input(\"third number\"))\n",
    "max(n1,n2,n3)\n"
   ]
  },
  {
   "cell_type": "markdown",
   "metadata": {},
   "source": [
    "Program to check if a number is prime or not"
   ]
  },
  {
   "cell_type": "code",
   "execution_count": null,
   "metadata": {},
   "outputs": [],
   "source": [
    "n=int(input(\"enter a number to check prime\"))\n",
    "c=0\n",
    "for i<n:\n"
   ]
  },
  {
   "cell_type": "markdown",
   "metadata": {},
   "source": [
    "Program to check if a character is a vowel or not\n",
    "Program to check if a string is a palindrome\n",
    "Program to find the factorial of a number"
   ]
  },
  {
   "cell_type": "code",
   "execution_count": 12,
   "metadata": {},
   "outputs": [
    {
     "name": "stdout",
     "output_type": "stream",
     "text": [
      "Simple interest =  20000.0\n"
     ]
    }
   ],
   "source": [
    "p=int(input(\"enter the principal value\"))\n",
    "r=int(input(\"enter the rate value\"))\n",
    "t=int(input(\"enter the time value\"))\n",
    "print(\"Simple interest = \",(p*r*t)/t)"
   ]
  },
  {
   "cell_type": "code",
   "execution_count": 15,
   "metadata": {},
   "outputs": [
    {
     "name": "stdout",
     "output_type": "stream",
     "text": [
      "entered value =  100\n",
      "entered percentage  =  20\n",
      "percentage of the entered 100 =  20.0\n"
     ]
    }
   ],
   "source": [
    "v=int(input(\"enter the value\"))\n",
    "p=int(input(\"enter the percentage\"))\n",
    "print(\"entered value = \",v)\n",
    "print(\"entered percentage  = \",p)\n",
    "pv=v*p/100\n",
    "print(f\"percentage of the entered {v} = \",pv)\n"
   ]
  },
  {
   "cell_type": "markdown",
   "metadata": {},
   "source": [
    "class 14 Aug"
   ]
  },
  {
   "cell_type": "markdown",
   "metadata": {},
   "source": [
    "## CONDITION\n",
    "- if\n",
    "- elif "
   ]
  },
  {
   "cell_type": "code",
   "execution_count": 18,
   "metadata": {},
   "outputs": [
    {
     "name": "stdout",
     "output_type": "stream",
     "text": [
      "6 is greater number\n"
     ]
    }
   ],
   "source": [
    "a=int(input())\n",
    "\n",
    "b=int(input())\n",
    "c=int(input())\n",
    "if a>b and a>c:\n",
    "  print(f\"{a} is greater number\")\n",
    "if b>a and b>c:\n",
    "  print(f\"{b} is greater number\")\n",
    "if c>b and a<c:\n",
    "  print(f\"{c} is greater number\")"
   ]
  },
  {
   "cell_type": "code",
   "execution_count": 21,
   "metadata": {},
   "outputs": [
    {
     "ename": "KeyboardInterrupt",
     "evalue": "Interrupted by user",
     "output_type": "error",
     "traceback": [
      "\u001b[1;31m---------------------------------------------------------------------------\u001b[0m",
      "\u001b[1;31mKeyboardInterrupt\u001b[0m                         Traceback (most recent call last)",
      "Cell \u001b[1;32mIn[21], line 2\u001b[0m\n\u001b[0;32m      1\u001b[0m m\u001b[39m=\u001b[39m\u001b[39mfloat\u001b[39m(\u001b[39minput\u001b[39m(\u001b[39m\"\u001b[39m\u001b[39menter the marks obtained in maths\u001b[39m\u001b[39m\"\u001b[39m))\n\u001b[1;32m----> 2\u001b[0m e\u001b[39m=\u001b[39m\u001b[39mfloat\u001b[39m(\u001b[39minput\u001b[39;49m(\u001b[39m\"\u001b[39;49m\u001b[39menter the marks obtained in english\u001b[39;49m\u001b[39m\"\u001b[39;49m))\n\u001b[0;32m      3\u001b[0m s\u001b[39m=\u001b[39m\u001b[39mfloat\u001b[39m(\u001b[39minput\u001b[39m(\u001b[39m\"\u001b[39m\u001b[39menter the marks obtained in science\u001b[39m\u001b[39m\"\u001b[39m))\n\u001b[0;32m      4\u001b[0m c\u001b[39m=\u001b[39m\u001b[39mfloat\u001b[39m(\u001b[39minput\u001b[39m(\u001b[39m\"\u001b[39m\u001b[39menter the marks obtained in computer\u001b[39m\u001b[39m\"\u001b[39m))\n",
      "File \u001b[1;32mc:\\Users\\ag923\\miniconda3\\Lib\\site-packages\\ipykernel\\kernelbase.py:1202\u001b[0m, in \u001b[0;36mKernel.raw_input\u001b[1;34m(self, prompt)\u001b[0m\n\u001b[0;32m   1200\u001b[0m     msg \u001b[39m=\u001b[39m \u001b[39m\"\u001b[39m\u001b[39mraw_input was called, but this frontend does not support input requests.\u001b[39m\u001b[39m\"\u001b[39m\n\u001b[0;32m   1201\u001b[0m     \u001b[39mraise\u001b[39;00m StdinNotImplementedError(msg)\n\u001b[1;32m-> 1202\u001b[0m \u001b[39mreturn\u001b[39;00m \u001b[39mself\u001b[39;49m\u001b[39m.\u001b[39;49m_input_request(\n\u001b[0;32m   1203\u001b[0m     \u001b[39mstr\u001b[39;49m(prompt),\n\u001b[0;32m   1204\u001b[0m     \u001b[39mself\u001b[39;49m\u001b[39m.\u001b[39;49m_parent_ident[\u001b[39m\"\u001b[39;49m\u001b[39mshell\u001b[39;49m\u001b[39m\"\u001b[39;49m],\n\u001b[0;32m   1205\u001b[0m     \u001b[39mself\u001b[39;49m\u001b[39m.\u001b[39;49mget_parent(\u001b[39m\"\u001b[39;49m\u001b[39mshell\u001b[39;49m\u001b[39m\"\u001b[39;49m),\n\u001b[0;32m   1206\u001b[0m     password\u001b[39m=\u001b[39;49m\u001b[39mFalse\u001b[39;49;00m,\n\u001b[0;32m   1207\u001b[0m )\n",
      "File \u001b[1;32mc:\\Users\\ag923\\miniconda3\\Lib\\site-packages\\ipykernel\\kernelbase.py:1245\u001b[0m, in \u001b[0;36mKernel._input_request\u001b[1;34m(self, prompt, ident, parent, password)\u001b[0m\n\u001b[0;32m   1242\u001b[0m \u001b[39mexcept\u001b[39;00m \u001b[39mKeyboardInterrupt\u001b[39;00m:\n\u001b[0;32m   1243\u001b[0m     \u001b[39m# re-raise KeyboardInterrupt, to truncate traceback\u001b[39;00m\n\u001b[0;32m   1244\u001b[0m     msg \u001b[39m=\u001b[39m \u001b[39m\"\u001b[39m\u001b[39mInterrupted by user\u001b[39m\u001b[39m\"\u001b[39m\n\u001b[1;32m-> 1245\u001b[0m     \u001b[39mraise\u001b[39;00m \u001b[39mKeyboardInterrupt\u001b[39;00m(msg) \u001b[39mfrom\u001b[39;00m \u001b[39mNone\u001b[39;00m\n\u001b[0;32m   1246\u001b[0m \u001b[39mexcept\u001b[39;00m \u001b[39mException\u001b[39;00m:\n\u001b[0;32m   1247\u001b[0m     \u001b[39mself\u001b[39m\u001b[39m.\u001b[39mlog\u001b[39m.\u001b[39mwarning(\u001b[39m\"\u001b[39m\u001b[39mInvalid Message:\u001b[39m\u001b[39m\"\u001b[39m, exc_info\u001b[39m=\u001b[39m\u001b[39mTrue\u001b[39;00m)\n",
      "\u001b[1;31mKeyboardInterrupt\u001b[0m: Interrupted by user"
     ]
    }
   ],
   "source": [
    "m=float(input(\"enter the marks obtained in maths\"))\n",
    "e=float(input(\"enter the marks obtained in english\"))\n",
    "s=float(input(\"enter the marks obtained in science\"))\n",
    "c=float(input(\"enter the marks obtained in computer\"))\n",
    "h=float(input(\"enter the marks obtained in history\"))\n",
    "p=(m+e+s+c+h)/5\n",
    "if p>=90:\n",
    "    print(f\"obtained percentage {p} and grade is A+\")\n",
    "elif p>=80 and p<90:\n",
    "     print(f\"obtained percentage {p} and grade is A\")\n",
    "elif p>=70 and p<80:\n",
    "     print(f\"obtained percentage {p} and grade is b+\")\n",
    "elif p>=40 and p<70:\n",
    "     print(f\"obtained percentage {p} and grade is b\")\n",
    "else:\n",
    "     print(\"fail\")\n",
    "    "
   ]
  },
  {
   "cell_type": "code",
   "execution_count": 23,
   "metadata": {},
   "outputs": [
    {
     "name": "stdout",
     "output_type": "stream",
     "text": [
      "a is a vowel\n"
     ]
    }
   ],
   "source": [
    "v=[\"a\",\"e\",\"i\",\"o\",\"u\",\"A\",\"E\",\"I\",\"O\",\"U\"]\n",
    "x=input(\"enter any alphabet\")\n",
    "if x in v:\n",
    " print(f\"{x} is a vowel\")\n",
    "else:\n",
    " print(f\"{x} is a consonante\")"
   ]
  },
  {
   "cell_type": "markdown",
   "metadata": {},
   "source": [
    "nested if condition"
   ]
  },
  {
   "cell_type": "code",
   "execution_count": 1,
   "metadata": {},
   "outputs": [
    {
     "name": "stdout",
     "output_type": "stream",
     "text": [
      "hurry🎉\n"
     ]
    }
   ],
   "source": [
    "name=(input(\"enter the username\"))\n",
    "email=input(\"enter the email\")\n",
    "ps=input(\"enter the password\")\n",
    "ps2=input(\"enter the password again\")\n",
    "if len(name)>4 and len(name)<15:\n",
    "    if '@' in email and email.islower() and len(email)>10:\n",
    "        if len(ps)>=6 and ps!=name:\n",
    "            if ps==ps2:\n",
    "                print(\"hurry🎉\")\n",
    "            else:\n",
    "                print(\"password not matched😥\")\n",
    "        else:\n",
    "          print(\"invalid password\")\n",
    "    else:\n",
    "            print(\"invallid email\")\n",
    "else:\n",
    "      print(\"invalid name\")"
   ]
  },
  {
   "cell_type": "code",
   "execution_count": null,
   "metadata": {},
   "outputs": [],
   "source": [
    "temperature=int(input(\"enter today's temperature\"))\n",
    "weather=input(\"enter weather in small letters\")\n",
    "if weather==\"sunny\":\n",
    "    print(\"i will go out for walk\")\n",
    "    if temperature>30:\n",
    "     print(\"i will go to the beach\")\n",
    "    else:\n",
    "       print(\"i will go the park\")\n",
    "else:\n",
    "   print(\"i will stay at home\")\n",
    "\n",
    "    "
   ]
  },
  {
   "cell_type": "markdown",
   "metadata": {},
   "source": [
    "Match case"
   ]
  },
  {
   "cell_type": "code",
   "execution_count": 2,
   "metadata": {},
   "outputs": [
    {
     "name": "stdout",
     "output_type": "stream",
     "text": [
      "I am not sure about this vehicle\n"
     ]
    }
   ],
   "source": [
    "vehicle=input(\"enter the type of vehicle:\")\n",
    "match vehicle:\n",
    "    case \"gasoline\"| \"diesel\":\n",
    "        print(\"it's a traditional fuel vehicle\")\n",
    "    case \"electric\":\n",
    "        print(\"it's an electric vehicle\")\n",
    "    case \"hybrid\":\n",
    "        print(\"it's an hybrid vehicle\")\n",
    "    case _:#  _  default case catch all\n",
    "        print(\"I am not sure about this vehicle\")\n",
    "        \n"
   ]
  }
 ],
 "metadata": {
  "kernelspec": {
   "display_name": "base",
   "language": "python",
   "name": "python3"
  },
  "language_info": {
   "codemirror_mode": {
    "name": "ipython",
    "version": 3
   },
   "file_extension": ".py",
   "mimetype": "text/x-python",
   "name": "python",
   "nbconvert_exporter": "python",
   "pygments_lexer": "ipython3",
   "version": "3.11.4"
  },
  "orig_nbformat": 4
 },
 "nbformat": 4,
 "nbformat_minor": 2
}
