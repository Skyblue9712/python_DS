{
 "cells": [
  {
   "cell_type": "markdown",
   "metadata": {},
   "source": [
    "### dictionary"
   ]
  },
  {
   "cell_type": "code",
   "execution_count": 1,
   "metadata": {},
   "outputs": [
    {
     "name": "stdout",
     "output_type": "stream",
     "text": [
      "{'name': 'akash', 'roll': 2}\n"
     ]
    }
   ],
   "source": [
    "student={\"name\":\"akash\",\"roll\":2}\n",
    "print(student)\n"
   ]
  },
  {
   "cell_type": "code",
   "execution_count": 2,
   "metadata": {},
   "outputs": [
    {
     "name": "stdout",
     "output_type": "stream",
     "text": [
      "name\n",
      "roll\n"
     ]
    }
   ],
   "source": [
    "for key in student:\n",
    "    print(key)"
   ]
  },
  {
   "cell_type": "code",
   "execution_count": 3,
   "metadata": {},
   "outputs": [
    {
     "name": "stdout",
     "output_type": "stream",
     "text": [
      "name : akash\n",
      "roll : 2\n"
     ]
    }
   ],
   "source": [
    "for k,v in student.items():\n",
    "    print(f'{k} : {v}')\n",
    "\n"
   ]
  },
  {
   "cell_type": "code",
   "execution_count": 4,
   "metadata": {},
   "outputs": [
    {
     "name": "stdout",
     "output_type": "stream",
     "text": [
      "dict_keys(['name', 'roll'])\n",
      "dict_values(['akash', 2])\n",
      "dict_items([('name', 'akash'), ('roll', 2)])\n"
     ]
    }
   ],
   "source": [
    "print(student.keys())\n",
    "print(student.values())\n",
    "print(student.items())"
   ]
  },
  {
   "cell_type": "code",
   "execution_count": 5,
   "metadata": {},
   "outputs": [
    {
     "name": "stdout",
     "output_type": "stream",
     "text": [
      "{'english': 67, 'hindi': 90, 'maths': 35, 'science': 75, 'social studies': 28}\n"
     ]
    }
   ],
   "source": [
    "raj={\n",
    "    'english' : 67,\n",
    "    'hindi' : 90,\n",
    "    'maths' : 35,\n",
    "    'science': 75,\n",
    "    'social studies' : 28\n",
    "}\n",
    "print(raj)"
   ]
  },
  {
   "cell_type": "code",
   "execution_count": 6,
   "metadata": {},
   "outputs": [
    {
     "name": "stdout",
     "output_type": "stream",
     "text": [
      "{'emp1': {'name': 'john', 'age': 25, 'designation': 'team leader', 'salary': 32000}, 'emp2': {'name': 'akash', 'age': 25, 'designation': 'webdeveloper', 'salary': 42000}, 'emp3': {'name': 'sky', 'age': 25, 'designation': 'leader', 'salary': 32000}}\n"
     ]
    }
   ],
   "source": [
    "company={\n",
    "    'emp1':{\n",
    "         'name': 'john',\n",
    "         'age':25 ,\n",
    "         'designation':'team leader',\n",
    "         'salary':32000},\n",
    "    'emp2':{\n",
    "         'name': 'akash',\n",
    "         'age':25 ,\n",
    "         'designation':'webdeveloper',\n",
    "         'salary':42000},\n",
    "    'emp3':{\n",
    "         'name': 'sky',\n",
    "         'age':25 ,\n",
    "         'designation':'leader',\n",
    "         'salary':32000}\n",
    "}\n",
    "print(company)"
   ]
  },
  {
   "cell_type": "code",
   "execution_count": null,
   "metadata": {},
   "outputs": [
    {
     "ename": "",
     "evalue": "",
     "output_type": "error",
     "traceback": [
      "\u001b[1;31mFailed to start the Kernel. \n",
      "\u001b[1;31mUnable to start Kernel 'base (Python 3.11.4)' due to a timeout waiting for the ports to get used. \n",
      "\u001b[1;31mView Jupyter <a href='command:jupyter.viewOutput'>log</a> for further details."
     ]
    }
   ],
   "source": [
    "company['name']='anjali mishra'\n",
    "print(company)\n",
    "print(company.keys())\n",
    "print(company['emp1']['name'])"
   ]
  }
 ],
 "metadata": {
  "kernelspec": {
   "display_name": "Python 3",
   "language": "python",
   "name": "python3"
  },
  "language_info": {
   "codemirror_mode": {
    "name": "ipython",
    "version": 3
   },
   "file_extension": ".py",
   "mimetype": "text/x-python",
   "name": "python",
   "nbconvert_exporter": "python",
   "pygments_lexer": "ipython3",
   "version": "3.11.4"
  },
  "orig_nbformat": 4
 },
 "nbformat": 4,
 "nbformat_minor": 2
}
