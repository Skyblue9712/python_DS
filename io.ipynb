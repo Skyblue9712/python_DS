{
 "cells": [
  {
   "cell_type": "code",
   "execution_count": 1,
   "metadata": {},
   "outputs": [],
   "source": [
    "name=\"akash\"\n",
    "age=23"
   ]
  },
  {
   "cell_type": "code",
   "execution_count": 3,
   "metadata": {},
   "outputs": [
    {
     "data": {
      "text/plain": [
       "'akash'"
      ]
     },
     "execution_count": 3,
     "metadata": {},
     "output_type": "execute_result"
    }
   ],
   "source": [
    "name# raw o/p"
   ]
  },
  {
   "cell_type": "code",
   "execution_count": 4,
   "metadata": {},
   "outputs": [
    {
     "name": "stdout",
     "output_type": "stream",
     "text": [
      "your name is akash\n",
      "you are 23 years old\n"
     ]
    }
   ],
   "source": [
    "print(\"your name is\", name)\n",
    "print('you are',age, 'years old')"
   ]
  },
  {
   "cell_type": "code",
   "execution_count": 5,
   "metadata": {},
   "outputs": [
    {
     "name": "stdout",
     "output_type": "stream",
     "text": [
      "Amaan\n",
      "kratagya\n",
      "Ayush\n",
      "Nishant\n"
     ]
    }
   ],
   "source": [
    "print('Amaan','kratagya','Ayush','Nishant',sep=\"\\n\")"
   ]
  },
  {
   "cell_type": "code",
   "execution_count": 1,
   "metadata": {},
   "outputs": [
    {
     "name": "stdout",
     "output_type": "stream",
     "text": [
      "Amaan or kratagya or Ayush or Nishant\n"
     ]
    }
   ],
   "source": [
    "print('Amaan','kratagya','Ayush','Nishant',sep=\" or \")"
   ]
  },
  {
   "cell_type": "code",
   "execution_count": 2,
   "metadata": {},
   "outputs": [
    {
     "name": "stdout",
     "output_type": "stream",
     "text": [
      "1 2\n",
      "3\n"
     ]
    }
   ],
   "source": [
    "print(1, end=\" \")\n",
    "print(2)\n",
    "print(3)"
   ]
  },
  {
   "cell_type": "markdown",
   "metadata": {},
   "source": [
    "### f string= formated string literals"
   ]
  },
  {
   "cell_type": "code",
   "execution_count": 3,
   "metadata": {},
   "outputs": [
    {
     "name": "stdout",
     "output_type": "stream",
     "text": [
      "5 + 10 = 15\n"
     ]
    }
   ],
   "source": [
    "x=5\n",
    "y=10\n",
    "z=20\n",
    "print(x,'+',y,'=',x+y)"
   ]
  },
  {
   "cell_type": "code",
   "execution_count": 4,
   "metadata": {},
   "outputs": [
    {
     "name": "stdout",
     "output_type": "stream",
     "text": [
      "5+10=15\n"
     ]
    }
   ],
   "source": [
    "print(f'{x}+{y}={x+y}')"
   ]
  },
  {
   "cell_type": "code",
   "execution_count": 6,
   "metadata": {},
   "outputs": [
    {
     "name": "stdout",
     "output_type": "stream",
     "text": [
      "Natasha has 7 chars\n",
      "Mahak has 5 chars\n"
     ]
    }
   ],
   "source": [
    "p1='Natasha'\n",
    "p2='Mahak'\n",
    "print(f'{p1} has {len(p1)} chars')\n",
    "print(f'{p2} has {len(p2)} chars')"
   ]
  },
  {
   "cell_type": "code",
   "execution_count": 7,
   "metadata": {},
   "outputs": [
    {
     "name": "stdout",
     "output_type": "stream",
     "text": [
      "Natasha = 7 chars\n",
      "Mahak = 5 chars\n"
     ]
    }
   ],
   "source": [
    "p1='Natasha'\n",
    "p2='Mahak'\n",
    "print(f'{p1} = {len(p1)} chars')\n",
    "print(f'{p2} = {len(p2)} chars')"
   ]
  },
  {
   "cell_type": "code",
   "execution_count": 8,
   "metadata": {},
   "outputs": [
    {
     "name": "stdout",
     "output_type": "stream",
     "text": [
      "Natasha    = 7 chars\n",
      "Mahak      = 5 chars\n"
     ]
    }
   ],
   "source": [
    "p1='Natasha'\n",
    "p2='Mahak'\n",
    "print(f'{p1:10} = {len(p1)} chars')\n",
    "print(f'{p2:10} = {len(p2)} chars')"
   ]
  },
  {
   "cell_type": "code",
   "execution_count": 9,
   "metadata": {},
   "outputs": [
    {
     "name": "stdout",
     "output_type": "stream",
     "text": [
      "   Natasha = 7 chars\n",
      "     Mahak = 5 chars\n"
     ]
    }
   ],
   "source": [
    "p1='Natasha'\n",
    "p2='Mahak'\n",
    "print(f'{p1:>10} = {len(p1)} chars')\n",
    "print(f'{p2:>10} = {len(p2)} chars')"
   ]
  },
  {
   "cell_type": "code",
   "execution_count": 10,
   "metadata": {},
   "outputs": [
    {
     "name": "stdout",
     "output_type": "stream",
     "text": [
      " Natasha   = 7 chars\n",
      "  Mahak    = 5 chars\n"
     ]
    }
   ],
   "source": [
    "p1='Natasha'\n",
    "p2='Mahak'\n",
    "print(f'{p1:^10} = {len(p1)} chars')\n",
    "print(f'{p2:^10} = {len(p2)} chars')"
   ]
  },
  {
   "cell_type": "code",
   "execution_count": 11,
   "metadata": {},
   "outputs": [
    {
     "name": "stdout",
     "output_type": "stream",
     "text": [
      "the value of pi is 3.142857142857143\n",
      "the value of pi is 3.14\n",
      "the value of pi is 3.1429\n"
     ]
    }
   ],
   "source": [
    "pi=22/7\n",
    "print(f'the value of pi is {pi}')\n",
    "print(f'the value of pi is {pi:.2f}')\n",
    "print(f'the value of pi is {pi:.4f}')\n",
    "print(\".😎\") #win + ."
   ]
  },
  {
   "cell_type": "code",
   "execution_count": 13,
   "metadata": {},
   "outputs": [
    {
     "data": {
      "text/plain": [
       "'lucknow'"
      ]
     },
     "execution_count": 13,
     "metadata": {},
     "output_type": "execute_result"
    }
   ],
   "source": [
    "city=input(\"Which city do you live in?\")\n",
    "city"
   ]
  },
  {
   "cell_type": "markdown",
   "metadata": {},
   "source": [
    "# type casting"
   ]
  },
  {
   "cell_type": "code",
   "execution_count": 15,
   "metadata": {},
   "outputs": [
    {
     "name": "stdout",
     "output_type": "stream",
     "text": [
      "<class 'int'>\n",
      "True\n"
     ]
    }
   ],
   "source": [
    "a = 10\n",
    "print(type(a))\n",
    "a=bool(a)\n",
    "print(a)"
   ]
  },
  {
   "cell_type": "code",
   "execution_count": 17,
   "metadata": {},
   "outputs": [
    {
     "name": "stdout",
     "output_type": "stream",
     "text": [
      "1000001 1000001\n"
     ]
    }
   ],
   "source": [
    "a='1000001'\n",
    "print(a, int(a))"
   ]
  },
  {
   "cell_type": "code",
   "execution_count": 16,
   "metadata": {},
   "outputs": [
    {
     "name": "stdout",
     "output_type": "stream",
     "text": [
      "3 <class 'int'>\n",
      "3.0 <class 'float'>\n"
     ]
    }
   ],
   "source": [
    "pi= int(pi)\n",
    "print(pi,type(pi))\n",
    "pi=float(pi)\n",
    "print(pi, type(pi))"
   ]
  },
  {
   "cell_type": "code",
   "execution_count": 19,
   "metadata": {},
   "outputs": [
    {
     "ename": "SyntaxError",
     "evalue": "invalid decimal literal (1464913585.py, line 4)",
     "output_type": "error",
     "traceback": [
      "\u001b[1;36m  Cell \u001b[1;32mIn[19], line 4\u001b[1;36m\u001b[0m\n\u001b[1;33m    print(pi, type(pi:.5f))\u001b[0m\n\u001b[1;37m                       ^\u001b[0m\n\u001b[1;31mSyntaxError\u001b[0m\u001b[1;31m:\u001b[0m invalid decimal literal\n"
     ]
    }
   ],
   "source": [
    "pi= int(pi)\n",
    "print(pi,type(pi))\n",
    "pi=float(pi)\n",
    "print(pi, type(pi:.5f))"
   ]
  },
  {
   "cell_type": "code",
   "execution_count": 18,
   "metadata": {},
   "outputs": [
    {
     "name": "stdout",
     "output_type": "stream",
     "text": [
      "225\n"
     ]
    }
   ],
   "source": [
    "a=int(input('enter a:'))\n",
    "b=int(input('enter b:'))\n",
    "print(a**b)\n"
   ]
  },
  {
   "cell_type": "markdown",
   "metadata": {},
   "source": []
  },
  {
   "cell_type": "code",
   "execution_count": null,
   "metadata": {},
   "outputs": [],
   "source": []
  },
  {
   "cell_type": "code",
   "execution_count": null,
   "metadata": {},
   "outputs": [],
   "source": []
  }
 ],
 "metadata": {
  "kernelspec": {
   "display_name": "base",
   "language": "python",
   "name": "python3"
  },
  "language_info": {
   "codemirror_mode": {
    "name": "ipython",
    "version": 3
   },
   "file_extension": ".py",
   "mimetype": "text/x-python",
   "name": "python",
   "nbconvert_exporter": "python",
   "pygments_lexer": "ipython3",
   "version": "3.11.4"
  },
  "orig_nbformat": 4
 },
 "nbformat": 4,
 "nbformat_minor": 2
}
