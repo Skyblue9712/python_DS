{
 "cells": [
  {
   "cell_type": "markdown",
   "metadata": {},
   "source": [
    "FUN TIME"
   ]
  },
  {
   "cell_type": "code",
   "execution_count": 3,
   "metadata": {},
   "outputs": [
    {
     "name": "stdout",
     "output_type": "stream",
     "text": [
      "{'five rupee coins': 1, 'two rupees coin': 1, 'one rupees coin': 1}\n"
     ]
    }
   ],
   "source": [
    "amt=int(input(\"enter the amount\"))\n",
    "f=amt//5\n",
    "if (amt-f*5)!=0:\n",
    " t=(amt-f*5)//2\n",
    " if (amt-f*5-t*2)!=0:\n",
    "  o=amt-f*5-t*2\n",
    "d={\"five rupee coins\":f,\"two rupees coin\":t,\"one rupees coin\":o}\n",
    "print(d)\n",
    " "
   ]
  },
  {
   "cell_type": "markdown",
   "metadata": {},
   "source": [
    "number of vehicles"
   ]
  },
  {
   "cell_type": "code",
   "execution_count": 5,
   "metadata": {},
   "outputs": [
    {
     "name": "stdout",
     "output_type": "stream",
     "text": [
      "130     70\n"
     ]
    }
   ],
   "source": [
    "v=int(input(\"enter total number of vehicles\"))\n",
    "w=int(input(\"enter total number of wheels\"))\n",
    "if w>=2 or w%2==0 or w>v:\n",
    "    tw=int((4*v-w)/2)\n",
    "    fw=int(v-tw)\n",
    "    print(tw,\"   \",fw)"
   ]
  },
  {
   "cell_type": "markdown",
   "metadata": {},
   "source": []
  }
 ],
 "metadata": {
  "kernelspec": {
   "display_name": "base",
   "language": "python",
   "name": "python3"
  },
  "language_info": {
   "codemirror_mode": {
    "name": "ipython",
    "version": 3
   },
   "file_extension": ".py",
   "mimetype": "text/x-python",
   "name": "python",
   "nbconvert_exporter": "python",
   "pygments_lexer": "ipython3",
   "version": "3.11.4"
  },
  "orig_nbformat": 4
 },
 "nbformat": 4,
 "nbformat_minor": 2
}
