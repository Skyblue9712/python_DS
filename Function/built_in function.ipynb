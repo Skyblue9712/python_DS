{
 "cells": [
  {
   "cell_type": "markdown",
   "metadata": {},
   "source": [
    "- built in function\n",
    "    - input()\n",
    "    - print()\n",
    "    - type()\n",
    "    - isinstance()\n",
    "    - len()\n",
    "    - min()\n",
    "    - max()\n",
    "    - sum()\n",
    "    - abs()\n",
    "    - round()\n",
    "    - eval()\n",
    "    - all()\n",
    "    - any()\n",
    "    - open()"
   ]
  },
  {
   "cell_type": "code",
   "execution_count": 1,
   "metadata": {},
   "outputs": [
    {
     "data": {
      "text/plain": [
       "True"
      ]
     },
     "execution_count": 1,
     "metadata": {},
     "output_type": "execute_result"
    }
   ],
   "source": [
    "x= 129.05\n",
    "isinstance(x, (int,float))\n"
   ]
  },
  {
   "cell_type": "code",
   "execution_count": 2,
   "metadata": {},
   "outputs": [
    {
     "data": {
      "text/plain": [
       "10"
      ]
     },
     "execution_count": 2,
     "metadata": {},
     "output_type": "execute_result"
    }
   ],
   "source": [
    "abs(-10)"
   ]
  },
  {
   "cell_type": "code",
   "execution_count": 3,
   "metadata": {},
   "outputs": [
    {
     "name": "stdout",
     "output_type": "stream",
     "text": [
      "1.123456\n",
      "1.12\n",
      "1.12346\n"
     ]
    }
   ],
   "source": [
    "a = 1.123456\n",
    "print(a)\n",
    "print(round(a,2))\n",
    "print(round(a,5))"
   ]
  },
  {
   "cell_type": "code",
   "execution_count": 4,
   "metadata": {},
   "outputs": [
    {
     "data": {
      "text/plain": [
       "'x+y'"
      ]
     },
     "execution_count": 4,
     "metadata": {},
     "output_type": "execute_result"
    }
   ],
   "source": [
    "x=10\n",
    "y=3\n",
    "\"x+y\""
   ]
  },
  {
   "cell_type": "code",
   "execution_count": 5,
   "metadata": {},
   "outputs": [
    {
     "name": "stdout",
     "output_type": "stream",
     "text": [
      "your equation is 45+54\n",
      "99\n"
     ]
    }
   ],
   "source": [
    "x=10\n",
    "y=3\n",
    "expression=input('enter your expression using x and y')\n",
    "print(\"your equation is\",expression)\n",
    "print(eval(expression))"
   ]
  },
  {
   "cell_type": "code",
   "execution_count": 6,
   "metadata": {},
   "outputs": [
    {
     "name": "stdout",
     "output_type": "stream",
     "text": [
      "[1, 2, 3, 4, 5, 6]\n",
      "[1, 2, 3, 4, 5, 0]\n",
      "[0, 0, 0, 0, 0, 0]\n",
      "[0, 0, 0, 0, 0, 1]\n"
     ]
    }
   ],
   "source": [
    "x=[1,2,3,4,5,6]\n",
    "y=[1,2,3,4,5,0]\n",
    "z=[0,0,0,0,0,0]\n",
    "a=[0,0,0,0,0,1]\n",
    "print(x)\n",
    "print(y)\n",
    "print(z)\n",
    "print(a)"
   ]
  },
  {
   "cell_type": "code",
   "execution_count": 8,
   "metadata": {},
   "outputs": [
    {
     "name": "stdout",
     "output_type": "stream",
     "text": [
      "False False True True True\n"
     ]
    }
   ],
   "source": [
    "print(bool(0) , bool(''),bool(' '),bool(200),bool(-1))"
   ]
  },
  {
   "cell_type": "markdown",
   "metadata": {},
   "source": [
    "file handling with open()\n",
    "- read\n",
    "- write\n",
    "- append"
   ]
  },
  {
   "cell_type": "code",
   "execution_count": 12,
   "metadata": {},
   "outputs": [
    {
     "name": "stdout",
     "output_type": "stream",
     "text": [
      "<_io.TextIOWrapper name='../dummy.txt' mode='r' encoding='utf-8'>\n"
     ]
    }
   ],
   "source": [
    "file=open ('../dummy.txt')\n",
    "print(file)"
   ]
  },
  {
   "cell_type": "code",
   "execution_count": 13,
   "metadata": {},
   "outputs": [
    {
     "data": {
      "text/plain": [
       "'hello akash!!!!'"
      ]
     },
     "execution_count": 13,
     "metadata": {},
     "output_type": "execute_result"
    }
   ],
   "source": [
    "file.read()"
   ]
  },
  {
   "cell_type": "code",
   "execution_count": 14,
   "metadata": {},
   "outputs": [
    {
     "name": "stdout",
     "output_type": "stream",
     "text": [
      "hello akash!!!!\n"
     ]
    }
   ],
   "source": [
    "with open('../dummy.txt') as file:# automatically close file after working \n",
    "    print(file.read())"
   ]
  },
  {
   "cell_type": "code",
   "execution_count": 16,
   "metadata": {},
   "outputs": [
    {
     "name": "stdout",
     "output_type": "stream",
     "text": [
      "{\n",
      " \"cells\": [\n",
      "  {\n",
      "   \"cell_type\": \"markdown\",\n",
      "   \"metadata\": {},\n",
      "   \"source\": [\n",
      "    \"- built in function\\n\",\n",
      "    \"    - input()\\n\",\n",
      "    \"    - print()\\n\",\n",
      "    \"    - type()\\n\",\n",
      "    \"    - isinstance()\\n\",\n",
      "    \"    - len()\\n\",\n",
      "    \"    - min()\\n\",\n",
      "    \"    - max()\\n\",\n",
      "    \"    - sum()\\n\",\n",
      "    \"    - abs()\\n\",\n",
      "    \"    - round()\\n\",\n",
      "    \"    - eval()\\n\",\n",
      "    \"    - all()\\n\",\n",
      "    \"    - any()\\n\",\n",
      "    \"    - open()\"\n",
      "   ]\n",
      "  },\n",
      "  {\n",
      "   \"cell_type\": \"code\",\n",
      "   \"execution_count\": 1,\n",
      "   \"metadata\": {},\n",
      "   \"outputs\": [\n",
      "    {\n",
      "     \"data\": {\n",
      "      \"text/plain\": [\n",
      "       \"True\"\n",
      "      ]\n",
      "     },\n",
      "     \"execution_count\": 1,\n",
      "     \"metadata\": {},\n",
      "     \"output_type\": \"execute_result\"\n",
      "    }\n",
      "   ],\n",
      "   \"source\": [\n",
      "    \"x= 129.05\\n\",\n",
      "    \"isinstance(x, (int,float))\\n\"\n",
      "   ]\n",
      "  },\n",
      "  {\n",
      "   \"cell_type\": \"code\",\n",
      "   \"execution_count\": 2,\n",
      "   \"metadata\": {},\n",
      "   \"outputs\": [\n",
      "    {\n",
      "     \"data\": {\n",
      "      \"text/plain\": [\n",
      "       \"10\"\n",
      "      ]\n",
      "     },\n",
      "     \"execution_count\": 2,\n",
      "     \"metadata\": {},\n",
      "     \"output_type\": \"execute_result\"\n",
      "    }\n",
      "   ],\n",
      "   \"source\": [\n",
      "    \"abs(-10)\"\n",
      "   ]\n",
      "  },\n",
      "  {\n",
      "   \"cell_type\": \"code\",\n",
      "   \"execution_count\": 3,\n",
      "   \"metadata\": {},\n",
      "   \"outputs\": [\n",
      "    {\n",
      "     \"name\": \"stdout\",\n",
      "     \"output_type\": \"stream\",\n",
      "     \"text\": [\n",
      "      \"1.123456\\n\",\n",
      "      \"1.12\\n\",\n",
      "      \"1.12346\\n\"\n",
      "     ]\n",
      "    }\n",
      "   ],\n",
      "   \"source\": [\n",
      "    \"a = 1.123456\\n\",\n",
      "    \"print(a)\\n\",\n",
      "    \"print(round(a,2))\\n\",\n",
      "    \"print(round(a,5))\"\n",
      "   ]\n",
      "  },\n",
      "  {\n",
      "   \"cell_type\": \"code\",\n",
      "   \"execution_count\": 4,\n",
      "   \"metadata\": {},\n",
      "   \"outputs\": [\n",
      "    {\n",
      "     \"data\": {\n",
      "      \"text/plain\": [\n",
      "       \"'x+y'\"\n",
      "      ]\n",
      "     },\n",
      "     \"execution_count\": 4,\n",
      "     \"metadata\": {},\n",
      "     \"output_type\": \"execute_result\"\n",
      "    }\n",
      "   ],\n",
      "   \"source\": [\n",
      "    \"x=10\\n\",\n",
      "    \"y=3\\n\",\n",
      "    \"\\\"x+y\\\"\"\n",
      "   ]\n",
      "  },\n",
      "  {\n",
      "   \"cell_type\": \"code\",\n",
      "   \"execution_count\": 5,\n",
      "   \"metadata\": {},\n",
      "   \"outputs\": [\n",
      "    {\n",
      "     \"name\": \"stdout\",\n",
      "     \"output_type\": \"stream\",\n",
      "     \"text\": [\n",
      "      \"your equation is 45+54\\n\",\n",
      "      \"99\\n\"\n",
      "     ]\n",
      "    }\n",
      "   ],\n",
      "   \"source\": [\n",
      "    \"x=10\\n\",\n",
      "    \"y=3\\n\",\n",
      "    \"expression=input('enter your expression using x and y')\\n\",\n",
      "    \"print(\\\"your equation is\\\",expression)\\n\",\n",
      "    \"print(eval(expression))\"\n",
      "   ]\n",
      "  },\n",
      "  {\n",
      "   \"cell_type\": \"code\",\n",
      "   \"execution_count\": 6,\n",
      "   \"metadata\": {},\n",
      "   \"outputs\": [\n",
      "    {\n",
      "     \"name\": \"stdout\",\n",
      "     \"output_type\": \"stream\",\n",
      "     \"text\": [\n",
      "      \"[1, 2, 3, 4, 5, 6]\\n\",\n",
      "      \"[1, 2, 3, 4, 5, 0]\\n\",\n",
      "      \"[0, 0, 0, 0, 0, 0]\\n\",\n",
      "      \"[0, 0, 0, 0, 0, 1]\\n\"\n",
      "     ]\n",
      "    }\n",
      "   ],\n",
      "   \"source\": [\n",
      "    \"x=[1,2,3,4,5,6]\\n\",\n",
      "    \"y=[1,2,3,4,5,0]\\n\",\n",
      "    \"z=[0,0,0,0,0,0]\\n\",\n",
      "    \"a=[0,0,0,0,0,1]\\n\",\n",
      "    \"print(x)\\n\",\n",
      "    \"print(y)\\n\",\n",
      "    \"print(z)\\n\",\n",
      "    \"print(a)\"\n",
      "   ]\n",
      "  },\n",
      "  {\n",
      "   \"cell_type\": \"code\",\n",
      "   \"execution_count\": 8,\n",
      "   \"metadata\": {},\n",
      "   \"outputs\": [\n",
      "    {\n",
      "     \"name\": \"stdout\",\n",
      "     \"output_type\": \"stream\",\n",
      "     \"text\": [\n",
      "      \"False False True True True\\n\"\n",
      "     ]\n",
      "    }\n",
      "   ],\n",
      "   \"source\": [\n",
      "    \"print(bool(0) , bool(''),bool(' '),bool(200),bool(-1))\"\n",
      "   ]\n",
      "  },\n",
      "  {\n",
      "   \"cell_type\": \"markdown\",\n",
      "   \"metadata\": {},\n",
      "   \"source\": [\n",
      "    \"file handling with open()\\n\",\n",
      "    \"- read\\n\",\n",
      "    \"- write\\n\",\n",
      "    \"- append\"\n",
      "   ]\n",
      "  },\n",
      "  {\n",
      "   \"cell_type\": \"code\",\n",
      "   \"execution_count\": 12,\n",
      "   \"metadata\": {},\n",
      "   \"outputs\": [\n",
      "    {\n",
      "     \"name\": \"stdout\",\n",
      "     \"output_type\": \"stream\",\n",
      "     \"text\": [\n",
      "      \"<_io.TextIOWrapper name='../dummy.txt' mode='r' encoding='utf-8'>\\n\"\n",
      "     ]\n",
      "    }\n",
      "   ],\n",
      "   \"source\": [\n",
      "    \"file=open ('../dummy.txt')\\n\",\n",
      "    \"print(file)\"\n",
      "   ]\n",
      "  },\n",
      "  {\n",
      "   \"cell_type\": \"code\",\n",
      "   \"execution_count\": 13,\n",
      "   \"metadata\": {},\n",
      "   \"outputs\": [\n",
      "    {\n",
      "     \"data\": {\n",
      "      \"text/plain\": [\n",
      "       \"'hello akash!!!!'\"\n",
      "      ]\n",
      "     },\n",
      "     \"execution_count\": 13,\n",
      "     \"metadata\": {},\n",
      "     \"output_type\": \"execute_result\"\n",
      "    }\n",
      "   ],\n",
      "   \"source\": [\n",
      "    \"file.read()\"\n",
      "   ]\n",
      "  },\n",
      "  {\n",
      "   \"cell_type\": \"code\",\n",
      "   \"execution_count\": 14,\n",
      "   \"metadata\": {},\n",
      "   \"outputs\": [\n",
      "    {\n",
      "     \"name\": \"stdout\",\n",
      "     \"output_type\": \"stream\",\n",
      "     \"text\": [\n",
      "      \"hello akash!!!!\\n\"\n",
      "     ]\n",
      "    }\n",
      "   ],\n",
      "   \"source\": [\n",
      "    \"with open('../dummy.txt') as file:# automatically close file after working \\n\",\n",
      "    \"    print(file.read())\"\n",
      "   ]\n",
      "  },\n",
      "  {\n",
      "   \"cell_type\": \"code\",\n",
      "   \"execution_count\": 15,\n",
      "   \"metadata\": {},\n",
      "   \"outputs\": [\n",
      "    {\n",
      "     \"ename\": \"FileNotFoundError\",\n",
      "     \"evalue\": \"[Errno 2] No such file or directory: 'builtin.ipynb'\",\n",
      "     \"output_type\": \"error\",\n",
      "     \"traceback\": [\n",
      "      \"\\u001b[1;31m---------------------------------------------------------------------------\\u001b[0m\",\n",
      "      \"\\u001b[1;31mFileNotFoundError\\u001b[0m                         Traceback (most recent call last)\",\n",
      "      \"\\u001b[1;32mc:\\\\Users\\\\ag923\\\\Desktop\\\\python\\\\Function\\\\built_in function.ipynb Cell 13\\u001b[0m line \\u001b[0;36m1\\n\\u001b[1;32m----> <a href='vscode-notebook-cell:/c%3A/Users/ag923/Desktop/python/Function/built_in%20function.ipynb#X15sZmlsZQ%3D%3D?line=0'>1</a>\\u001b[0m \\u001b[39mwith\\u001b[39;00m \\u001b[39mopen\\u001b[39;49m(\\u001b[39m'\\u001b[39;49m\\u001b[39mbuiltin.ipynb\\u001b[39;49m\\u001b[39m'\\u001b[39;49m) \\u001b[39mas\\u001b[39;00m file:\\n\\u001b[0;32m      <a href='vscode-notebook-cell:/c%3A/Users/ag923/Desktop/python/Function/built_in%20function.ipynb#X15sZmlsZQ%3D%3D?line=1'>2</a>\\u001b[0m     \\u001b[39mprint\\u001b[39m(file\\u001b[39m.\\u001b[39mread())\\n\",\n",
      "      \"File \\u001b[1;32mc:\\\\Users\\\\ag923\\\\miniconda3\\\\Lib\\\\site-packages\\\\IPython\\\\core\\\\interactiveshell.py:284\\u001b[0m, in \\u001b[0;36m_modified_open\\u001b[1;34m(file, *args, **kwargs)\\u001b[0m\\n\\u001b[0;32m    277\\u001b[0m \\u001b[39mif\\u001b[39;00m file \\u001b[39min\\u001b[39;00m {\\u001b[39m0\\u001b[39m, \\u001b[39m1\\u001b[39m, \\u001b[39m2\\u001b[39m}:\\n\\u001b[0;32m    278\\u001b[0m     \\u001b[39mraise\\u001b[39;00m \\u001b[39mValueError\\u001b[39;00m(\\n\\u001b[0;32m    279\\u001b[0m         \\u001b[39mf\\u001b[39m\\u001b[39m\\\"\\u001b[39m\\u001b[39mIPython won\\u001b[39m\\u001b[39m'\\u001b[39m\\u001b[39mt let you open fd=\\u001b[39m\\u001b[39m{\\u001b[39;00mfile\\u001b[39m}\\u001b[39;00m\\u001b[39m by default \\u001b[39m\\u001b[39m\\\"\\u001b[39m\\n\\u001b[0;32m    280\\u001b[0m         \\u001b[39m\\\"\\u001b[39m\\u001b[39mas it is likely to crash IPython. If you know what you are doing, \\u001b[39m\\u001b[39m\\\"\\u001b[39m\\n\\u001b[0;32m    281\\u001b[0m         \\u001b[39m\\\"\\u001b[39m\\u001b[39myou can use builtins\\u001b[39m\\u001b[39m'\\u001b[39m\\u001b[39m open.\\u001b[39m\\u001b[39m\\\"\\u001b[39m\\n\\u001b[0;32m    282\\u001b[0m     )\\n\\u001b[1;32m--> 284\\u001b[0m \\u001b[39mreturn\\u001b[39;00m io_open(file, \\u001b[39m*\\u001b[39;49margs, \\u001b[39m*\\u001b[39;49m\\u001b[39m*\\u001b[39;49mkwargs)\\n\",\n",
      "      \"\\u001b[1;31mFileNotFoundError\\u001b[0m: [Errno 2] No such file or directory: 'builtin.ipynb'\"\n",
      "     ]\n",
      "    }\n",
      "   ],\n",
      "   \"source\": [\n",
      "    \"with open('built_in function.ipynb') as file:\\n\",\n",
      "    \"    print(file.read())\"\n",
      "   ]\n",
      "  }\n",
      " ],\n",
      " \"metadata\": {\n",
      "  \"kernelspec\": {\n",
      "   \"display_name\": \"base\",\n",
      "   \"language\": \"python\",\n",
      "   \"name\": \"python3\"\n",
      "  },\n",
      "  \"language_info\": {\n",
      "   \"codemirror_mode\": {\n",
      "    \"name\": \"ipython\",\n",
      "    \"version\": 3\n",
      "   },\n",
      "   \"file_extension\": \".py\",\n",
      "   \"mimetype\": \"text/x-python\",\n",
      "   \"name\": \"python\",\n",
      "   \"nbconvert_exporter\": \"python\",\n",
      "   \"pygments_lexer\": \"ipython3\",\n",
      "   \"version\": \"3.11.4\"\n",
      "  }\n",
      " },\n",
      " \"nbformat\": 4,\n",
      " \"nbformat_minor\": 2\n",
      "}\n",
      "\n"
     ]
    }
   ],
   "source": [
    "with open('built_in function.ipynb') as file:\n",
    "    print(file.read())"
   ]
  },
  {
   "cell_type": "code",
   "execution_count": 22,
   "metadata": {},
   "outputs": [
    {
     "name": "stdout",
     "output_type": "stream",
     "text": [
      "['hello', 'akash!!!!']\n"
     ]
    }
   ],
   "source": [
    "with open('..\\dummy.txt') as file:\n",
    "        content=file.read()\n",
    "print(content.split())"
   ]
  },
  {
   "cell_type": "code",
   "execution_count": 23,
   "metadata": {},
   "outputs": [
    {
     "name": "stdout",
     "output_type": "stream",
     "text": [
      "asdkjagdshs\n"
     ]
    }
   ],
   "source": [
    "path= r'C:\\Users\\ag923\\Desktop\\asd.txt'\n",
    "with open(path) as f:\n",
    "    print(f.read())"
   ]
  },
  {
   "cell_type": "code",
   "execution_count": 24,
   "metadata": {},
   "outputs": [
    {
     "name": "stdout",
     "output_type": "stream",
     "text": [
      "asdkjagdshs\n"
     ]
    }
   ],
   "source": [
    "path= 'C:\\/Users\\/ag923\\/Desktop\\/asd.txt'\n",
    "with open(path) as f:\n",
    "    print(f.read())"
   ]
  },
  {
   "cell_type": "code",
   "execution_count": 29,
   "metadata": {},
   "outputs": [],
   "source": [
    "meri_kahani='''adahka dadahkdjhd \n",
    "sahdkjajda,\n",
    "sadhdk'''\n",
    "with open('meri_kahani.txt','w') as f:\n",
    "    f.write(meri_kahani)"
   ]
  },
  {
   "cell_type": "code",
   "execution_count": 35,
   "metadata": {},
   "outputs": [
    {
     "name": "stdout",
     "output_type": "stream",
     "text": [
      "file saved\n"
     ]
    }
   ],
   "source": [
    "dusri_kahani='''ashifhsf sfaf\n",
    "shskhfjksf\n",
    "assjdid'''\n",
    "addr = r\"C:\\Users\\ag923\\Desktop\\python\\dusri_kahani.txt\"\n",
    "with open(addr,'w')as f:\n",
    "    f.write(dusri_kahani)\n",
    "    print(\"file saved\")"
   ]
  },
  {
   "cell_type": "code",
   "execution_count": 38,
   "metadata": {},
   "outputs": [
    {
     "name": "stdout",
     "output_type": "stream",
     "text": [
      "file u\n"
     ]
    }
   ],
   "source": [
    "user_ka_data= input(\"enter your story:\")\n",
    "with open(addr,\"a\") as f:\n",
    "    f.write(\"\\n\"+user_ka_data)\n",
    "    print(\"file u\")"
   ]
  }
 ],
 "metadata": {
  "kernelspec": {
   "display_name": "base",
   "language": "python",
   "name": "python3"
  },
  "language_info": {
   "codemirror_mode": {
    "name": "ipython",
    "version": 3
   },
   "file_extension": ".py",
   "mimetype": "text/x-python",
   "name": "python",
   "nbconvert_exporter": "python",
   "pygments_lexer": "ipython3",
   "version": "3.11.4"
  }
 },
 "nbformat": 4,
 "nbformat_minor": 2
}
