{
 "cells": [
  {
   "cell_type": "code",
   "execution_count": 11,
   "metadata": {},
   "outputs": [
    {
     "name": "stdout",
     "output_type": "stream",
     "text": [
      "[ 0  1  2  3  4  5  6  7  8  9 10 11 12 13 14]\n",
      "[[ 0  1  2  3  4]\n",
      " [ 5  6  7  8  9]\n",
      " [10 11 12 13 14]]\n"
     ]
    }
   ],
   "source": [
    "import numpy as np\n",
    "# creating array with arange function of numpy\n",
    "a=np.arange(15)# single dimensional\n",
    "print(a)\n",
    "a=np.arange(15).reshape(3,5)# multi-dimensional\n",
    "print(a)"
   ]
  },
  {
   "cell_type": "markdown",
   "metadata": {},
   "source": [
    "# numpy array properties"
   ]
  },
  {
   "cell_type": "code",
   "execution_count": 12,
   "metadata": {},
   "outputs": [
    {
     "data": {
      "text/plain": [
       "15"
      ]
     },
     "execution_count": 12,
     "metadata": {},
     "output_type": "execute_result"
    }
   ],
   "source": [
    "# size of array\n",
    "a.size"
   ]
  },
  {
   "cell_type": "code",
   "execution_count": 13,
   "metadata": {},
   "outputs": [
    {
     "name": "stdout",
     "output_type": "stream",
     "text": [
      "[1 3 4 5 6]\n"
     ]
    }
   ],
   "source": [
    "x=np.array([1,3,4,5,6])\n",
    "print(x)"
   ]
  },
  {
   "cell_type": "code",
   "execution_count": 14,
   "metadata": {},
   "outputs": [
    {
     "name": "stdout",
     "output_type": "stream",
     "text": [
      "[[1 2 3]\n",
      " [4 5 6]]\n"
     ]
    }
   ],
   "source": [
    "y=np.array([[1,2,3],[4,5,6]])\n",
    "print(y)"
   ]
  },
  {
   "cell_type": "code",
   "execution_count": 15,
   "metadata": {},
   "outputs": [
    {
     "name": "stdout",
     "output_type": "stream",
     "text": [
      "shape (5,)\n",
      "num of dimensions: 1\n",
      "type of data:  int32\n",
      "Y\n",
      "shape (2, 3)\n",
      "num of dimensions: 2\n",
      "type of data:  int32\n"
     ]
    }
   ],
   "source": [
    "print('shape',x.shape)\n",
    "print('num of dimensions:',x.ndim)\n",
    "print('type of data: ',x.dtype)\n",
    "print('Y')\n",
    "print('shape',y.shape)\n",
    "print('num of dimensions:',y.ndim)\n",
    "print('type of data: ',y.dtype)"
   ]
  },
  {
   "cell_type": "markdown",
   "metadata": {},
   "source": [
    "- arange\n",
    "- linspace\n",
    "- random*\n",
    "- eye\n",
    "- ones\n",
    "- zero"
   ]
  },
  {
   "cell_type": "code",
   "execution_count": 16,
   "metadata": {},
   "outputs": [],
   "source": [
    "np.set_printoptions(precision=4, suppress=True)"
   ]
  },
  {
   "cell_type": "code",
   "execution_count": 17,
   "metadata": {},
   "outputs": [
    {
     "name": "stdout",
     "output_type": "stream",
     "text": [
      "[-10.   -9.8  -9.6  -9.4  -9.2  -9.   -8.8  -8.6  -8.4  -8.2  -8.   -7.8\n",
      "  -7.6  -7.4  -7.2  -7.   -6.8  -6.6  -6.4  -6.2  -6.   -5.8  -5.6  -5.4\n",
      "  -5.2  -5.   -4.8  -4.6  -4.4  -4.2  -4.   -3.8  -3.6  -3.4  -3.2  -3.\n",
      "  -2.8  -2.6  -2.4  -2.2  -2.   -1.8  -1.6  -1.4  -1.2  -1.   -0.8  -0.6\n",
      "  -0.4  -0.2  -0.    0.2   0.4   0.6   0.8   1.    1.2   1.4   1.6   1.8\n",
      "   2.    2.2   2.4   2.6   2.8   3.    3.2   3.4   3.6   3.8   4.    4.2\n",
      "   4.4   4.6   4.8   5.    5.2   5.4   5.6   5.8   6.    6.2   6.4   6.6\n",
      "   6.8   7.    7.2   7.4   7.6   7.8   8.    8.2   8.4   8.6   8.8   9.\n",
      "   9.2   9.4   9.6   9.8]\n"
     ]
    }
   ],
   "source": [
    "a=np.arange(-10,10,0.2)\n",
    "print(a)"
   ]
  },
  {
   "cell_type": "code",
   "execution_count": 18,
   "metadata": {},
   "outputs": [
    {
     "name": "stdout",
     "output_type": "stream",
     "text": [
      "[0.     0.1111 0.2222 0.3333 0.4444 0.5556 0.6667 0.7778 0.8889 1.    ]\n"
     ]
    }
   ],
   "source": [
    "b=np.linspace(0,1,10)\n",
    "print(b)"
   ]
  },
  {
   "cell_type": "code",
   "execution_count": 19,
   "metadata": {},
   "outputs": [
    {
     "data": {
      "text/plain": [
       "array([[0.3491, 0.2702, 0.1766],\n",
       "       [0.4338, 0.955 , 0.1564],\n",
       "       [0.003 , 0.7128, 0.5869]])"
      ]
     },
     "execution_count": 19,
     "metadata": {},
     "output_type": "execute_result"
    }
   ],
   "source": [
    "np.random.random((3,3))"
   ]
  },
  {
   "cell_type": "code",
   "execution_count": 20,
   "metadata": {},
   "outputs": [
    {
     "data": {
      "text/plain": [
       "array([[527, 814, 612],\n",
       "       [549, 380, 367],\n",
       "       [891,  44, 847]])"
      ]
     },
     "execution_count": 20,
     "metadata": {},
     "output_type": "execute_result"
    }
   ],
   "source": [
    "np.random.randint(1,1000,(3,3))"
   ]
  },
  {
   "cell_type": "code",
   "execution_count": 21,
   "metadata": {},
   "outputs": [
    {
     "data": {
      "text/plain": [
       "array([[1, 0, 0, 0, 0],\n",
       "       [0, 1, 0, 0, 0],\n",
       "       [0, 0, 1, 0, 0],\n",
       "       [0, 0, 0, 1, 0],\n",
       "       [0, 0, 0, 0, 1]])"
      ]
     },
     "execution_count": 21,
     "metadata": {},
     "output_type": "execute_result"
    }
   ],
   "source": [
    "np.eye(5, dtype=int)#identity matrix"
   ]
  },
  {
   "cell_type": "code",
   "execution_count": 22,
   "metadata": {},
   "outputs": [
    {
     "data": {
      "text/plain": [
       "array([[1, 1, 1, 1, 1],\n",
       "       [1, 1, 1, 1, 1],\n",
       "       [1, 1, 1, 1, 1],\n",
       "       [1, 1, 1, 1, 1],\n",
       "       [1, 1, 1, 1, 1]])"
      ]
     },
     "execution_count": 22,
     "metadata": {},
     "output_type": "execute_result"
    }
   ],
   "source": [
    "np.ones((5,5),dtype=int)"
   ]
  },
  {
   "cell_type": "code",
   "execution_count": 23,
   "metadata": {},
   "outputs": [
    {
     "data": {
      "text/plain": [
       "array([[0, 0, 0, 0, 0],\n",
       "       [0, 0, 0, 0, 0],\n",
       "       [0, 0, 0, 0, 0],\n",
       "       [0, 0, 0, 0, 0],\n",
       "       [0, 0, 0, 0, 0]])"
      ]
     },
     "execution_count": 23,
     "metadata": {},
     "output_type": "execute_result"
    }
   ],
   "source": [
    "np.zeros((5,5),dtype=int)"
   ]
  },
  {
   "cell_type": "code",
   "execution_count": 24,
   "metadata": {},
   "outputs": [
    {
     "data": {
      "text/plain": [
       "array([1, 1, 1, 1, 1])"
      ]
     },
     "execution_count": 24,
     "metadata": {},
     "output_type": "execute_result"
    }
   ],
   "source": [
    "np.ones(5,dtype=int)"
   ]
  },
  {
   "cell_type": "markdown",
   "metadata": {},
   "source": [
    "# mathmatical operations\n",
    "- arithmatic\n",
    "- statistical\n",
    "- trignonometry"
   ]
  },
  {
   "cell_type": "code",
   "execution_count": 25,
   "metadata": {},
   "outputs": [
    {
     "name": "stdout",
     "output_type": "stream",
     "text": [
      "[[ 1 22 10]\n",
      " [16  2 17]]\n",
      "[[ 4  2]\n",
      " [16  3]\n",
      " [ 5 11]]\n"
     ]
    }
   ],
   "source": [
    "x=np.random.randint(1,25,(2,3))\n",
    "y=np.random.randint(1,25,(3,2))\n",
    "print(x)\n",
    "print(y)"
   ]
  },
  {
   "cell_type": "code",
   "execution_count": 26,
   "metadata": {},
   "outputs": [
    {
     "name": "stdout",
     "output_type": "stream",
     "text": [
      "[[ 4 16  5]\n",
      " [ 2  3 11]]\n",
      "[[ 1 22 10]\n",
      " [16  2 17]]\n"
     ]
    }
   ],
   "source": [
    "y=y.T\n",
    "print(y)\n",
    "print(x)"
   ]
  },
  {
   "cell_type": "code",
   "execution_count": 27,
   "metadata": {},
   "outputs": [
    {
     "name": "stdout",
     "output_type": "stream",
     "text": [
      "[[ 5 38 15]\n",
      " [18  5 28]]\n"
     ]
    }
   ],
   "source": [
    "print(x+y)\n",
    "y=y.T"
   ]
  },
  {
   "cell_type": "code",
   "execution_count": 28,
   "metadata": {},
   "outputs": [
    {
     "data": {
      "text/plain": [
       "array([[  4, 352,  50],\n",
       "       [ 32,   6, 187]])"
      ]
     },
     "execution_count": 28,
     "metadata": {},
     "output_type": "execute_result"
    }
   ],
   "source": [
    "x*y.T # matrix multiplication"
   ]
  },
  {
   "cell_type": "code",
   "execution_count": 29,
   "metadata": {},
   "outputs": [
    {
     "name": "stdout",
     "output_type": "stream",
     "text": [
      "[[1 2 3]\n",
      " [4 5 6]]\n",
      "[[1 1]\n",
      " [1 1]\n",
      " [1 1]]\n",
      "[[ 6  6]\n",
      " [15 15]]\n",
      "[[1 1 1]\n",
      " [1 1 1]]\n",
      "[[1 2 3]\n",
      " [4 5 6]]\n"
     ]
    }
   ],
   "source": [
    "q= np.array([[1,2,3],[4,5,6]])\n",
    "print(q)\n",
    "w= np.ones((3,2),dtype=int)\n",
    "print(w)\n",
    "print(q@w)#normal matrix multiplication\n",
    "e= np.ones((2,3),dtype=int)\n",
    "print(e)\n",
    "print(q*e) # corressponding same index no.s get multiplied"
   ]
  },
  {
   "cell_type": "code",
   "execution_count": 30,
   "metadata": {},
   "outputs": [
    {
     "name": "stdout",
     "output_type": "stream",
     "text": [
      "[[406 178]\n",
      " [181 225]]\n"
     ]
    }
   ],
   "source": [
    "print(x@y)#matrix multiplication as in maths"
   ]
  },
  {
   "cell_type": "code",
   "execution_count": 31,
   "metadata": {},
   "outputs": [
    {
     "data": {
      "text/plain": [
       "array([[ 1, 22, 10,  1, 22, 10,  1, 22, 10,  1, 22, 10],\n",
       "       [16,  2, 17, 16,  2, 17, 16,  2, 17, 16,  2, 17]])"
      ]
     },
     "execution_count": 31,
     "metadata": {},
     "output_type": "execute_result"
    }
   ],
   "source": [
    "np.hstack((x,x,x,x))"
   ]
  },
  {
   "cell_type": "code",
   "execution_count": 32,
   "metadata": {},
   "outputs": [
    {
     "data": {
      "text/plain": [
       "array([[ 1, 22, 10],\n",
       "       [16,  2, 17],\n",
       "       [ 1, 22, 10],\n",
       "       [16,  2, 17],\n",
       "       [ 1, 22, 10],\n",
       "       [16,  2, 17]])"
      ]
     },
     "execution_count": 32,
     "metadata": {},
     "output_type": "execute_result"
    }
   ],
   "source": [
    "np.vstack((x,x,x))"
   ]
  },
  {
   "cell_type": "code",
   "execution_count": 33,
   "metadata": {},
   "outputs": [
    {
     "name": "stdout",
     "output_type": "stream",
     "text": [
      "[[ 1 22 10]\n",
      " [16  2 17]]\n",
      "sum of all elements : 68\n",
      "sum of all elements row wise : [33 35]\n",
      "sum of all elements col. wise : [17 24 27]\n",
      "mean of all elements : 11.333333333333334\n",
      "meadian of all elements : 13.0\n",
      "minimum of all elements : 1\n",
      "maximum of all elements : 22\n",
      "vaiance of all elements : 60.55555555555555\n",
      "standard deviation of all elements : 7.781745019952501\n",
      "any item is non-zero : True\n",
      "all item is non-zero : True\n"
     ]
    }
   ],
   "source": [
    "print(x)\n",
    "print(\"sum of all elements :\",x.sum())\n",
    "print(\"sum of all elements row wise :\",x.sum(axis=1))\n",
    "print(\"sum of all elements col. wise :\",x.sum(axis=0))\n",
    "print(\"mean of all elements :\",x.mean())\n",
    "print(\"meadian of all elements :\",np.median(x))\n",
    "print(\"minimum of all elements :\",x.min())\n",
    "print(\"maximum of all elements :\",x.max())\n",
    "print(\"vaiance of all elements :\",x.var())\n",
    "print(\"standard deviation of all elements :\",x.std())\n",
    "print(\"any item is non-zero :\",x.any())\n",
    "print(\"all item is non-zero :\",x.all())"
   ]
  },
  {
   "cell_type": "code",
   "execution_count": 34,
   "metadata": {},
   "outputs": [
    {
     "name": "stdout",
     "output_type": "stream",
     "text": [
      "3.141592653589793\n",
      "nan\n",
      "inf\n",
      "2.718281828459045\n"
     ]
    }
   ],
   "source": [
    "print(np.pi)\n",
    "print(np.nan)#?\n",
    "print(np.inf)#?\n",
    "print(np.e)"
   ]
  },
  {
   "cell_type": "code",
   "execution_count": 35,
   "metadata": {},
   "outputs": [
    {
     "name": "stdout",
     "output_type": "stream",
     "text": [
      "[[ 0.8415 -0.0089 -0.544 ]\n",
      " [-0.2879  0.9093 -0.9614]]\n",
      "[[ 0.5403 -1.     -0.8391]\n",
      " [-0.9577 -0.4161 -0.2752]]\n",
      "[[ 1.5574  0.0089  0.6484]\n",
      " [ 0.3006 -2.185   3.4939]]\n"
     ]
    }
   ],
   "source": [
    "print(np.sin(x))\n",
    "print(np.cos(x))\n",
    "print(np.tan(x))\n"
   ]
  },
  {
   "cell_type": "markdown",
   "metadata": {},
   "source": []
  },
  {
   "cell_type": "code",
   "execution_count": 40,
   "metadata": {},
   "outputs": [
    {
     "data": {
      "text/plain": [
       "array([[22, 10],\n",
       "       [16, 17]])"
      ]
     },
     "execution_count": 40,
     "metadata": {},
     "output_type": "execute_result"
    }
   ],
   "source": [
    "x[x>5].reshape(2,2) # boolean filter"
   ]
  },
  {
   "cell_type": "code",
   "execution_count": 42,
   "metadata": {},
   "outputs": [
    {
     "name": "stdout",
     "output_type": "stream",
     "text": [
      "[[ 1  1  0  0  0]\n",
      " [-2  2  1  2  2]\n",
      " [-2  2  2 -1  0]\n",
      " [-1  2 -2 -2  1]\n",
      " [ 1 -2 -1  1 -2]]\n"
     ]
    }
   ],
   "source": [
    "x=np.random.randint(-3,3,(5,5))\n",
    "print(x)"
   ]
  },
  {
   "cell_type": "code",
   "execution_count": 46,
   "metadata": {},
   "outputs": [
    {
     "data": {
      "text/plain": [
       "array([ 1,  1,  0,  0,  0,  1, -1,  0, -1,  1,  1, -1,  1])"
      ]
     },
     "execution_count": 46,
     "metadata": {},
     "output_type": "execute_result"
    }
   ],
   "source": [
    "x[(x> -2) & (x<2)]"
   ]
  },
  {
   "cell_type": "code",
   "execution_count": 44,
   "metadata": {},
   "outputs": [
    {
     "data": {
      "text/plain": [
       "array([ 1,  1,  0,  0,  0, -2,  2,  1,  2,  2, -2,  2,  2, -1,  0, -1,  2,\n",
       "       -2, -2,  1,  1, -2, -1,  1, -2])"
      ]
     },
     "execution_count": 44,
     "metadata": {},
     "output_type": "execute_result"
    }
   ],
   "source": [
    "x[(x> -2) | (x<2)]"
   ]
  },
  {
   "cell_type": "markdown",
   "metadata": {},
   "source": [
    "# indexing and slicing"
   ]
  },
  {
   "cell_type": "code",
   "execution_count": 48,
   "metadata": {},
   "outputs": [
    {
     "data": {
      "text/plain": [
       "1"
      ]
     },
     "execution_count": 48,
     "metadata": {},
     "output_type": "execute_result"
    }
   ],
   "source": [
    "x[0,0]"
   ]
  },
  {
   "cell_type": "markdown",
   "metadata": {},
   "source": [
    "syntax for slicing in 1d: :[start:stop:step]\n",
    "syntax for slicing in 1d: :[rstart:rstop:rstep,cstart:cstop:cstep]"
   ]
  },
  {
   "cell_type": "code",
   "execution_count": 53,
   "metadata": {},
   "outputs": [
    {
     "name": "stdout",
     "output_type": "stream",
     "text": [
      "[1 1 0 0 0]\n",
      "[ 1 -2 -1  1 -2]\n",
      "[[ 1  1  0  0  0]\n",
      " [-2  2  1  2  2]\n",
      " [-2  2  2 -1  0]\n",
      " [-1  2 -2 -2  1]\n",
      " [ 1 -2 -1  1 -2]]\n"
     ]
    }
   ],
   "source": [
    "print(x[0])\n",
    "print(x[-1])\n",
    "print(x)"
   ]
  },
  {
   "cell_type": "code",
   "execution_count": 57,
   "metadata": {},
   "outputs": [
    {
     "name": "stdout",
     "output_type": "stream",
     "text": [
      "[1 1 0]\n",
      "[1 0 0 0]\n",
      "[ 1 -2 -1  1 -2]\n",
      "[0 2 0 1]\n",
      "[[ 1  1]\n",
      " [-2  2]\n",
      " [-2  2]\n",
      " [-1  2]\n",
      " [ 1 -2]]\n",
      "[[ 0  0  1  0]\n",
      " [ 1  2  2  2]\n",
      " [ 2  0  2 -1]\n",
      " [-2  1  2 -2]\n",
      " [-1 -2 -2  1]]\n"
     ]
    }
   ],
   "source": [
    "print(x[0,:3])# : here column implies all elements of that perticular row or column\n",
    "print(x[0,-4:])\n",
    "print(x[-1,])\n",
    "print(x[:-1,-1])\n",
    "print(x[:,:2])# x[rstart : rend ,cstart:ccolumn]      \n",
    "print(x[:,[2,4,1,3]])# 2,4,1,3 index column"
   ]
  },
  {
   "cell_type": "markdown",
   "metadata": {},
   "source": [
    "# sorting"
   ]
  },
  {
   "cell_type": "code",
   "execution_count": 59,
   "metadata": {},
   "outputs": [
    {
     "data": {
      "text/plain": [
       "array([[-2, -2, -2, -2, -2],\n",
       "       [-2,  1, -1, -1,  0],\n",
       "       [-1,  2,  0,  0,  0],\n",
       "       [ 1,  2,  1,  1,  1],\n",
       "       [ 1,  2,  2,  2,  2]])"
      ]
     },
     "execution_count": 59,
     "metadata": {},
     "output_type": "execute_result"
    }
   ],
   "source": [
    "x.sort(axis=0)\n",
    "x"
   ]
  },
  {
   "cell_type": "code",
   "execution_count": 73,
   "metadata": {},
   "outputs": [
    {
     "data": {
      "text/plain": [
       "array([[5, 7, 1],\n",
       "       [6, 2, 6],\n",
       "       [1, 5, 3]])"
      ]
     },
     "execution_count": 73,
     "metadata": {},
     "output_type": "execute_result"
    }
   ],
   "source": [
    "x=np.random.randint(1,10,(3,3))\n",
    "x"
   ]
  },
  {
   "cell_type": "code",
   "execution_count": 74,
   "metadata": {},
   "outputs": [
    {
     "name": "stdout",
     "output_type": "stream",
     "text": [
      "[[1 2 1]\n",
      " [5 5 3]\n",
      " [6 7 6]]\n",
      "[[1 1 2]\n",
      " [3 5 5]\n",
      " [6 6 7]]\n"
     ]
    }
   ],
   "source": [
    "x.sort(axis=0)# column wise sorting\n",
    "print(x)\n",
    "x.sort(axis=1)# column wise sorting\n",
    "print(x)"
   ]
  },
  {
   "cell_type": "code",
   "execution_count": 75,
   "metadata": {},
   "outputs": [
    {
     "name": "stdout",
     "output_type": "stream",
     "text": [
      "[1 1 2 3 5 5 6 6 7]\n"
     ]
    }
   ],
   "source": [
    "x = x.flatten()\n",
    "x.sort()\n",
    "print(x)"
   ]
  },
  {
   "cell_type": "code",
   "execution_count": 77,
   "metadata": {},
   "outputs": [
    {
     "name": "stdout",
     "output_type": "stream",
     "text": [
      "8\n",
      "0\n"
     ]
    }
   ],
   "source": [
    "print(x.argmax()) # return index of max element\n",
    "print(x.argmin()) # return index of min element"
   ]
  },
  {
   "cell_type": "code",
   "execution_count": null,
   "metadata": {},
   "outputs": [],
   "source": []
  }
 ],
 "metadata": {
  "kernelspec": {
   "display_name": "Python 3",
   "language": "python",
   "name": "python3"
  },
  "language_info": {
   "codemirror_mode": {
    "name": "ipython",
    "version": 3
   },
   "file_extension": ".py",
   "mimetype": "text/x-python",
   "name": "python",
   "nbconvert_exporter": "python",
   "pygments_lexer": "ipython3",
   "version": "3.11.4"
  }
 },
 "nbformat": 4,
 "nbformat_minor": 2
}
