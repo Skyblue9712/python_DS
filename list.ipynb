{
 "cells": [
  {
   "cell_type": "markdown",
   "metadata": {},
   "source": [
    "## list of 10 mobile apps"
   ]
  },
  {
   "cell_type": "code",
   "execution_count": 1,
   "metadata": {},
   "outputs": [
    {
     "name": "stdout",
     "output_type": "stream",
     "text": [
      "excel\n",
      "['whatsapp', 'facebook', 'instagram', 'tiktok', 'excel']\n",
      "['excel']\n"
     ]
    }
   ],
   "source": [
    "l=[\"chrome\",\"pdf reader\",\"calculator\",\"timer\",\"doccam\",\"whatsapp\",\"facebook\",\"instagram\",\"tiktok\",\"excel\"]\n",
    "print(l[-1])# indexing\n",
    "print(l[5:10])# list_slicing\n",
    "print(l[-1: ])"
   ]
  },
  {
   "cell_type": "markdown",
   "metadata": {},
   "source": [
    "## sublist"
   ]
  },
  {
   "cell_type": "code",
   "execution_count": 9,
   "metadata": {},
   "outputs": [
    {
     "name": "stdout",
     "output_type": "stream",
     "text": [
      "['o', 'g', 'r']\n",
      "['a', 'm', 'i', 'z']\n",
      "['p', 'r', 'o', 'g', 'r', 'a', 'm', 'i', 'z']\n",
      "['r', 'g', 'a', 'i']\n",
      "['z']\n"
     ]
    }
   ],
   "source": [
    "my_list=['p','r','o','g','r','a','m','i','z']\n",
    "print(my_list[2:5])\n",
    "print(my_list[5: ])\n",
    "print(my_list[:])\n",
    "print(my_list[1:9:2])\n",
    "print(my_list[-1:])"
   ]
  },
  {
   "cell_type": "code",
   "execution_count": 10,
   "metadata": {},
   "outputs": [
    {
     "name": "stdout",
     "output_type": "stream",
     "text": [
      "['crome', 'pdf reader', 'calculator', 'timer', 'doccam', 'whatsapp', 'facebook', 'instagram', 'tiktok', 'excel', 'Map']\n"
     ]
    }
   ],
   "source": [
    "l.append('Map')# add element in the last\n",
    "print(l)"
   ]
  },
  {
   "cell_type": "code",
   "execution_count": 11,
   "metadata": {},
   "outputs": [
    {
     "name": "stdout",
     "output_type": "stream",
     "text": [
      "['youtube', 'crome', 'pdf reader', 'calculator', 'timer', 'doccam', 'whatsapp', 'facebook', 'instagram', 'tiktok', 'excel', 'Map']\n"
     ]
    }
   ],
   "source": [
    "l.insert(0,'youtube')#add element at perticular index  here '0' is the index place and 'youtube' is the element\n",
    "print(l)"
   ]
  },
  {
   "cell_type": "markdown",
   "metadata": {},
   "source": []
  }
 ],
 "metadata": {
  "kernelspec": {
   "display_name": "base",
   "language": "python",
   "name": "python3"
  },
  "language_info": {
   "codemirror_mode": {
    "name": "ipython",
    "version": 3
   },
   "file_extension": ".py",
   "mimetype": "text/x-python",
   "name": "python",
   "nbconvert_exporter": "python",
   "pygments_lexer": "ipython3",
   "version": "3.11.4"
  },
  "orig_nbformat": 4
 },
 "nbformat": 4,
 "nbformat_minor": 2
}
