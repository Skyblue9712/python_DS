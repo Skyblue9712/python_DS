{
 "cells": [
  {
   "cell_type": "code",
   "execution_count": 1,
   "metadata": {},
   "outputs": [],
   "source": [
    "from math import *"
   ]
  },
  {
   "cell_type": "code",
   "execution_count": 10,
   "metadata": {},
   "outputs": [
    {
     "name": "stdout",
     "output_type": "stream",
     "text": [
      "2.0\n"
     ]
    }
   ],
   "source": [
    "import math\n",
    "a=math.sqrt(4)\n",
    "print(a)"
   ]
  },
  {
   "cell_type": "code",
   "execution_count": 11,
   "metadata": {},
   "outputs": [
    {
     "name": "stdout",
     "output_type": "stream",
     "text": [
      "16.0\n"
     ]
    }
   ],
   "source": [
    "print(math.pow(4,2))"
   ]
  },
  {
   "cell_type": "code",
   "execution_count": 12,
   "metadata": {},
   "outputs": [
    {
     "name": "stdout",
     "output_type": "stream",
     "text": [
      "2.0\n"
     ]
    }
   ],
   "source": [
    "print(math.log(100,10))"
   ]
  },
  {
   "cell_type": "code",
   "execution_count": 14,
   "metadata": {},
   "outputs": [
    {
     "name": "stdout",
     "output_type": "stream",
     "text": [
      "0.8939966636005579\n"
     ]
    }
   ],
   "source": [
    "print(math.sin(90))"
   ]
  },
  {
   "cell_type": "code",
   "execution_count": 39,
   "metadata": {},
   "outputs": [
    {
     "name": "stdout",
     "output_type": "stream",
     "text": [
      "GET A RANDOM NUMBER between 0 and 1 0.7976711786357206\n",
      "get a random number between 1 and 10: 7\n",
      "lose\n"
     ]
    }
   ],
   "source": [
    "from random import random, randint,choice, shuffle\n",
    "print(\"GET A RANDOM NUMBER between 0 and 1\", random())\n",
    "print(\"get a random number between 1 and 10:\", randint(1,10))\n",
    "print( choice(['win','lose']))\n"
   ]
  },
  {
   "cell_type": "code",
   "execution_count": 20,
   "metadata": {},
   "outputs": [
    {
     "name": "stdout",
     "output_type": "stream",
     "text": [
      "shuffle a list ['joe', 'jhone', 'jack', 'jill']\n"
     ]
    }
   ],
   "source": [
    "names=['jhone','jack', 'jill','joe']\n",
    "shuffle(names)\n",
    "print('shuffle a list', names)"
   ]
  },
  {
   "cell_type": "markdown",
   "metadata": {},
   "source": [
    "# date time library"
   ]
  },
  {
   "cell_type": "code",
   "execution_count": 21,
   "metadata": {},
   "outputs": [],
   "source": [
    "from datetime import datetime as dt"
   ]
  },
  {
   "cell_type": "code",
   "execution_count": 22,
   "metadata": {},
   "outputs": [
    {
     "name": "stdout",
     "output_type": "stream",
     "text": [
      "current date and time 2023-09-13 10:35:35.087830\n"
     ]
    }
   ],
   "source": [
    "print(\"current date and time\",dt.now())"
   ]
  },
  {
   "cell_type": "code",
   "execution_count": 23,
   "metadata": {},
   "outputs": [
    {
     "name": "stdout",
     "output_type": "stream",
     "text": [
      "current date 2023-09-13\n"
     ]
    }
   ],
   "source": [
    "print(\"current date\",dt.now().date())"
   ]
  },
  {
   "cell_type": "code",
   "execution_count": 24,
   "metadata": {},
   "outputs": [
    {
     "name": "stdout",
     "output_type": "stream",
     "text": [
      "current time 10:40:12.908761\n"
     ]
    }
   ],
   "source": [
    "print(\"current time\",dt.now().time())"
   ]
  },
  {
   "cell_type": "code",
   "execution_count": 28,
   "metadata": {},
   "outputs": [
    {
     "name": "stdout",
     "output_type": "stream",
     "text": [
      "current year: 2023\n",
      "current month: 9\n",
      "current day: 13\n",
      "current weekday: 2\n"
     ]
    }
   ],
   "source": [
    "print('current year:', dt.now().year)\n",
    "print('current month:', dt.now().month)\n",
    "print('current day:', dt.now().day)\n",
    "print('current weekday:', dt.now().weekday())"
   ]
  },
  {
   "cell_type": "code",
   "execution_count": 29,
   "metadata": {},
   "outputs": [
    {
     "name": "stdout",
     "output_type": "stream",
     "text": [
      "13 / 09 / 23\n"
     ]
    }
   ],
   "source": [
    "date= dt.strftime(dt.now(), '%d / %m / %y')\n",
    "print(date)"
   ]
  },
  {
   "cell_type": "code",
   "execution_count": 32,
   "metadata": {},
   "outputs": [
    {
     "name": "stdout",
     "output_type": "stream",
     "text": [
      "10:54:02\n"
     ]
    }
   ],
   "source": [
    "time=dt.strftime(dt.now(), '%H:%M:%S')\n",
    "print(time)"
   ]
  },
  {
   "cell_type": "markdown",
   "metadata": {},
   "source": [
    "# for viewung directory"
   ]
  },
  {
   "cell_type": "code",
   "execution_count": 33,
   "metadata": {},
   "outputs": [],
   "source": [
    "import os #know about folder ,files or directories"
   ]
  },
  {
   "cell_type": "code",
   "execution_count": 34,
   "metadata": {},
   "outputs": [
    {
     "name": "stdout",
     "output_type": "stream",
     "text": [
      "current workink folder  c:\\Users\\ag923\\Desktop\\python\n"
     ]
    }
   ],
   "source": [
    "print(\"current workink folder \",os.getcwd())"
   ]
  },
  {
   "cell_type": "code",
   "execution_count": 35,
   "metadata": {},
   "outputs": [
    {
     "name": "stdout",
     "output_type": "stream",
     "text": [
      "['.git', 'Assignment.ipynb', 'ASSIGNMENT2.ipynb', 'assignment3.ipynb', 'basics.py', 'classe.ipynb', 'condition.ipynb', 'DATATYPE.ipynb', 'dictio.ipynb', 'Fhandle', 'function.ipynb', 'funTime.ipynb', 'game1.py', 'game2.py', 'libraries.ipynb', 'list.ipynb', 'list_comprehension.ipynb', 'loop.ipynb', 'name_turtle.py', 'pattern.ipynb', 'PATTERN1.py', 'pythagorus.py', 'quiz.ipynb', 'turtle.ipynb', 'vaiables.ipynb']\n"
     ]
    }
   ],
   "source": [
    "file=os.listdir()\n",
    "print(file)"
   ]
  },
  {
   "cell_type": "code",
   "execution_count": 38,
   "metadata": {},
   "outputs": [
    {
     "name": "stdout",
     "output_type": "stream",
     "text": [
      "['acad2015', 'autocad', 'KeyTweak_install.exe', 'KMPlayer_3.4.0.55.exe', 'New folder', 'New ins', 'Oxford Dictionary of English v7.0.177 Premium APK + Data [SadeemAPK]', 'PVsyst6_8_7_setup.msi', 'ScnRec.exe', 'shipra-english-to-hindi-dictionary-1.0_1231000985.exe', 'sky.blend', 'TypingMaster10', 'vlc-2.1.2-win32.exe', 'VSCodeUserSetup-x64-1.52.1.exe', 'WPS Office - Word, Docs, PDF, Note, Slide & Sheet v11.0.5 [Mod]', 'ZoomInstaller.exe']\n",
      "16\n"
     ]
    }
   ],
   "source": [
    "files=os.listdir(r'D:\\software')\n",
    "print(files)\n",
    "print(len(files))"
   ]
  },
  {
   "cell_type": "markdown",
   "metadata": {},
   "source": []
  }
 ],
 "metadata": {
  "kernelspec": {
   "display_name": "base",
   "language": "python",
   "name": "python3"
  },
  "language_info": {
   "codemirror_mode": {
    "name": "ipython",
    "version": 3
   },
   "file_extension": ".py",
   "mimetype": "text/x-python",
   "name": "python",
   "nbconvert_exporter": "python",
   "pygments_lexer": "ipython3",
   "version": "3.11.4"
  },
  "orig_nbformat": 4
 },
 "nbformat": 4,
 "nbformat_minor": 2
}
