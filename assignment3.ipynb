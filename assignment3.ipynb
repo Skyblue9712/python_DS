{
 "cells": [
  {
   "cell_type": "markdown",
   "metadata": {},
   "source": [
    "check even or odd\n",
    "convert tempetrature celcius to fahrenheit\n",
    "find maximum of two numbers\n",
    "calculate factorial\n",
    "reverse a string\n",
    "count vowels in a string\n",
    "calculate BMI (body mass index)"
   ]
  },
  {
   "cell_type": "code",
   "execution_count": 3,
   "metadata": {},
   "outputs": [
    {
     "name": "stdout",
     "output_type": "stream",
     "text": [
      "3 is odd\n"
     ]
    }
   ],
   "source": [
    "def check(n):\n",
    "     if n%2==0:\n",
    "          print (f'{n} is even')\n",
    "     else:\n",
    "           print(f'{n} is odd') \n",
    "check(3)\n",
    "          "
   ]
  },
  {
   "cell_type": "code",
   "execution_count": 6,
   "metadata": {},
   "outputs": [
    {
     "name": "stdout",
     "output_type": "stream",
     "text": [
      "100 degree celcius = 212.0 degree fahrenheight\n"
     ]
    }
   ],
   "source": [
    "def temconv(c):\n",
    "     print(f'{c} degree celcius = {(c/5)*9+32} degree fahrenheight')\n",
    "temconv(100)"
   ]
  },
  {
   "cell_type": "code",
   "execution_count": 7,
   "metadata": {},
   "outputs": [
    {
     "data": {
      "text/plain": [
       "5"
      ]
     },
     "execution_count": 7,
     "metadata": {},
     "output_type": "execute_result"
    }
   ],
   "source": [
    "import math\n",
    "def maxim(a,b):\n",
    "      print(f'maximum number between {a} and {b} is {max(a,b)}')\n",
    "max(4,5)"
   ]
  },
  {
   "cell_type": "code",
   "execution_count": 11,
   "metadata": {},
   "outputs": [
    {
     "name": "stdout",
     "output_type": "stream",
     "text": [
      "factorial of 5 = 120\n"
     ]
    }
   ],
   "source": [
    "def fac(n):\n",
    "      f=1\n",
    "      for i in range(1,n+1):\n",
    "             f*=i\n",
    "      print(f\"factorial of {n} = {f}\")\n",
    "fac(5)"
   ]
  },
  {
   "cell_type": "code",
   "execution_count": 17,
   "metadata": {},
   "outputs": [
    {
     "name": "stdout",
     "output_type": "stream",
     "text": [
      "olleh\n"
     ]
    }
   ],
   "source": [
    "def rev(s):\n",
    "    r=\"\"\n",
    "    for i in s:\n",
    "      r=i+r\n",
    "    print(r)\n",
    "rev('hello')\n"
   ]
  },
  {
   "cell_type": "code",
   "execution_count": 18,
   "metadata": {},
   "outputs": [
    {
     "name": "stdout",
     "output_type": "stream",
     "text": [
      "number of vowels present = 3\n"
     ]
    }
   ],
   "source": [
    "def countV(s):\n",
    "     v=\"aeiouAEIOU\"\n",
    "     c=0\n",
    "     for i in s:\n",
    "          if i in v:\n",
    "               c+=1\n",
    "     print(f'number of vowels present = {c}')\n",
    "countV('Alphabets')"
   ]
  },
  {
   "cell_type": "code",
   "execution_count": 21,
   "metadata": {},
   "outputs": [
    {
     "name": "stdout",
     "output_type": "stream",
     "text": [
      " BMI of person = 19.26530612244898\n"
     ]
    }
   ],
   "source": [
    "def BMI(w,h):\n",
    "     BMI = w/h**2\n",
    "     print(f' BMI of person = {BMI}')\n",
    "BMI(59,1.75)"
   ]
  }
 ],
 "metadata": {
  "kernelspec": {
   "display_name": "base",
   "language": "python",
   "name": "python3"
  },
  "language_info": {
   "codemirror_mode": {
    "name": "ipython",
    "version": 3
   },
   "file_extension": ".py",
   "mimetype": "text/x-python",
   "name": "python",
   "nbconvert_exporter": "python",
   "pygments_lexer": "ipython3",
   "version": "3.11.4"
  },
  "orig_nbformat": 4
 },
 "nbformat": 4,
 "nbformat_minor": 2
}
