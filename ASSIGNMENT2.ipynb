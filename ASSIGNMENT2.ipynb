{
 "cells": [
  {
   "cell_type": "markdown",
   "metadata": {},
   "source": [
    "#  ASSIGNMENT 2"
   ]
  },
  {
   "cell_type": "markdown",
   "metadata": {},
   "source": [
    "### 1: Calculate the gross salary of an employee where HRA is 0.2 of basic salary and D.A is 0.8 of basic salary."
   ]
  },
  {
   "cell_type": "code",
   "execution_count": 3,
   "metadata": {},
   "outputs": [
    {
     "name": "stdout",
     "output_type": "stream",
     "text": [
      "Gross salary =  200.0\n"
     ]
    }
   ],
   "source": [
    "b=(int)(input(\"enter the basic salary of an employee\"))\n",
    "print(f\"Gross salary =  {b*(1+0.2+0.8)}\")# here HRA=0.2*BASIC SALARY AND DA=0.8* OF BASIC SALARY"
   ]
  },
  {
   "cell_type": "markdown",
   "metadata": {},
   "source": [
    "### 2:  WAP TO ENTER THE SHAPE FORM THE USER AND PRINT THE AREA OF THAT SHAPE."
   ]
  },
  {
   "cell_type": "code",
   "execution_count": 37,
   "metadata": {},
   "outputs": [
    {
     "name": "stdout",
     "output_type": "stream",
     "text": [
      "Area of cicle = 154.0 square unit 6\n"
     ]
    }
   ],
   "source": [
    "s=input(\"enter the shape of any geometrical figure\")\n",
    "match s:\n",
    "    case \"circle\"| \"c\":\n",
    "        a=(22/7)*float(input(\"enter the radius of the circle\"))**2\n",
    "        print(f\"Area of cicle = {a} square unit\")\n",
    "    case \"triangle\"|\"t\":\n",
    "        base=int(input(\"enter the base of triangle\"))\n",
    "        height=int(input(\"enter the height of triangle\"))\n",
    "        print(f\"Area of triangle = {0.5*base*height} square unit\")\n",
    "\n",
    "    case \"square\"|\"sq\":\n",
    "        side=float(input(\"enter the side of the square\"))\n",
    "        print(\"Area of square =\" ,side**2,\" square unit\")\n",
    "    case \"rectangle\"|\"r\"|\"rhombus\"|\"rh\"| \"parallelogram\"|\"pa\":\n",
    "        base=int(input(\"enter the base of {s}\"))\n",
    "        height=int(input(\"enter the height of {s}\"))\n",
    "        print(f\"Area of {s} = {base*height} square unit\")\n",
    "    case \"trapezium\"|\"tr\":\n",
    "        ps1=int(input(\"enter the first parallel side lenght\"))\n",
    "        ps2=int(input(\"enter the second parallel side lenght\"))\n",
    "        height=int(input(\"enter the height\"))\n",
    "        print(f\"Area of trapezium = {0.5*height(ps1+ps2)} square unit\")\n",
    "    case _:\n",
    "        print(\"sorry, this operation is not mentioned in this program\")"
   ]
  },
  {
   "cell_type": "markdown",
   "metadata": {},
   "source": [
    "### 3:  WAP TO CALCULATE THE HYPOTENUES  OF A RIGHT ANGLE TRIANGLE."
   ]
  },
  {
   "cell_type": "code",
   "execution_count": 50,
   "metadata": {},
   "outputs": [
    {
     "name": "stdout",
     "output_type": "stream",
     "text": [
      "hypotenues = 5.0\n"
     ]
    }
   ],
   "source": [
    "import math\n",
    "P=int(input(\"enter perpendicular\"))\n",
    "B=int(input(\"enter base\"))\n",
    "print(f\"hypotenues = {math.sqrt(P**2+B**2)}\")"
   ]
  },
  {
   "cell_type": "markdown",
   "metadata": {},
   "source": [
    "### 4:  CHECK WEATHER A NUMBER IS A PRIME NUMMBER OR NOT."
   ]
  },
  {
   "cell_type": "code",
   "execution_count": 25,
   "metadata": {},
   "outputs": [
    {
     "name": "stdout",
     "output_type": "stream",
     "text": [
      "53 is a prime number\n"
     ]
    }
   ],
   "source": [
    "N=int(input(\"enetr a number\"))\n",
    "c=0\n",
    "for i in range(1,N):\n",
    " if N%i==0:\n",
    "   c+=1\n",
    "if c==1:\n",
    " print(f\"{N} is a prime number\")\n",
    "else:\n",
    " print(f\"{N} is not a prime number\")"
   ]
  },
  {
   "cell_type": "markdown",
   "metadata": {},
   "source": [
    "### 5:  CHECK WEATHER A YEAR IS LEAP YEAR OR NOT"
   ]
  },
  {
   "cell_type": "code",
   "execution_count": 36,
   "metadata": {},
   "outputs": [
    {
     "name": "stdout",
     "output_type": "stream",
     "text": [
      "2024 is a leap year\n"
     ]
    }
   ],
   "source": [
    "year=int(input(\"enetr any year\"))\n",
    "if year%4==0:\n",
    " print(f\"{year} is a leap year\")\n",
    "else:\n",
    " print(f\"{year} is not a leap year\")"
   ]
  },
  {
   "cell_type": "markdown",
   "metadata": {},
   "source": [
    "### 6:  PRINT THE TABLE OF THE ENTERED NUMBER BY THE USER."
   ]
  },
  {
   "cell_type": "code",
   "execution_count": 27,
   "metadata": {},
   "outputs": [
    {
     "name": "stdout",
     "output_type": "stream",
     "text": [
      "10 * 1 = 10\n",
      "10 * 2 = 20\n",
      "10 * 3 = 30\n",
      "10 * 4 = 40\n",
      "10 * 5 = 50\n",
      "10 * 6 = 60\n",
      "10 * 7 = 70\n",
      "10 * 8 = 80\n",
      "10 * 9 = 90\n",
      "10 * 10 = 100\n"
     ]
    }
   ],
   "source": [
    "N=int(input(\"enetr a number\"))\n",
    "for i in range(1,11):\n",
    "    print(f\"{N} * {i} = {N*i}\")"
   ]
  },
  {
   "cell_type": "markdown",
   "metadata": {},
   "source": [
    "### 7:  TAKE A LIST OF TEN POSITIVE NUMBERS AND PRINT THE SQUARE OF EACH IN SEPERATE LINE."
   ]
  },
  {
   "cell_type": "code",
   "execution_count": 28,
   "metadata": {},
   "outputs": [
    {
     "name": "stdout",
     "output_type": "stream",
     "text": [
      "1 * 1 = 1\n",
      "2 * 2 = 4\n",
      "3 * 3 = 9\n",
      "4 * 4 = 16\n",
      "5 * 5 = 25\n",
      "6 * 6 = 36\n",
      "7 * 7 = 49\n",
      "8 * 8 = 64\n",
      "9 * 9 = 81\n",
      "10 * 10 = 100\n"
     ]
    }
   ],
   "source": [
    "l=[1,2,3,4,5,6,7,8,9,10]\n",
    "for i in l:\n",
    "    print(f\"{i} * {i} = {i**2}\")"
   ]
  },
  {
   "cell_type": "markdown",
   "metadata": {},
   "source": [
    "### 8:  write a program to enter a string and substring and cheeck number of times it is repeated. "
   ]
  },
  {
   "cell_type": "code",
   "execution_count": 42,
   "metadata": {},
   "outputs": [
    {
     "name": "stdout",
     "output_type": "stream",
     "text": [
      "s1 = aakafhuaaka aashd  aakaedaaka\n",
      "s2 = aaka\n",
      "4 number of times repeated\n"
     ]
    }
   ],
   "source": [
    "s1=input(\"enter the main string in which we have to search out\")\n",
    "s2=input(\"enter the substring\")\n",
    "count=0\n",
    "for i in range(0,len(s1)-len(s2)+1):\n",
    "    if s2==s1[i:len(s2)+i]:\n",
    "        count+=1\n",
    "print (f\"s1 = {s1}\")\n",
    "print (f\"s2 = {s2}\")\n",
    "print (f\"{count} number of times repeated\")\n",
    "     "
   ]
  },
  {
   "cell_type": "markdown",
   "metadata": {},
   "source": [
    "### 9:  enter a string from the user and check it is day or month if it is a day then print the number of days in that month."
   ]
  },
  {
   "cell_type": "code",
   "execution_count": 43,
   "metadata": {},
   "outputs": [
    {
     "name": "stdout",
     "output_type": "stream",
     "text": [
      "august is a month having 31 days\n"
     ]
    }
   ],
   "source": [
    "s=input(\"enter a day or month name in small letters\")# enter the correct spelling otherwise it may give the wrong result\n",
    "d=['sunday','monday','tuesday','wednesday','thursday','friday','saturday']\n",
    "m1=['april','june','september','november']\n",
    "if s in d:\n",
    "    print(f\"{s} is a day\")\n",
    "elif s in m1:\n",
    "    print(f\"{s} is a month having 30 days\")\n",
    "elif s==\"febuary\":\n",
    "    print(f\"{s} is a month having 28 days (considering it is not a leap year)\")\n",
    "else:\n",
    "    print(f\"{s} is a month having 31 days\")\n"
   ]
  },
  {
   "cell_type": "markdown",
   "metadata": {},
   "source": [
    "#### 10: Given an integer, n, perform the following conditional actions:\n",
    "•\tIf n is odd, print Weired\n",
    "•\tIf n is even and in the inclusive range of 2 to 5, print Not Weired\n",
    "•\tIf n is even and in the inclusive range of 6 to 20, print Weired\n",
    "•\tIf n is even and greater than 20, print Not Weired"
   ]
  },
  {
   "cell_type": "code",
   "execution_count": 46,
   "metadata": {},
   "outputs": [
    {
     "name": "stdout",
     "output_type": "stream",
     "text": [
      "WEIRED\n"
     ]
    }
   ],
   "source": [
    "n=int(input(\"enter any integer\"))\n",
    "if n%2!=0 | (n>=6 and n<=20):\n",
    "  print(\"WEIRED\")\n",
    "elif n>=2 and (n<=5 | n>20):\n",
    "  print(\" NOT WEIRED\")"
   ]
  },
  {
   "cell_type": "markdown",
   "metadata": {},
   "source": [
    " "
   ]
  },
  {
   "cell_type": "markdown",
   "metadata": {},
   "source": []
  }
 ],
 "metadata": {
  "kernelspec": {
   "display_name": "base",
   "language": "python",
   "name": "python3"
  },
  "language_info": {
   "codemirror_mode": {
    "name": "ipython",
    "version": 3
   },
   "file_extension": ".py",
   "mimetype": "text/x-python",
   "name": "python",
   "nbconvert_exporter": "python",
   "pygments_lexer": "ipython3",
   "version": "3.11.4"
  },
  "orig_nbformat": 4
 },
 "nbformat": 4,
 "nbformat_minor": 2
}
