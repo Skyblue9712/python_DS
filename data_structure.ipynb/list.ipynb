{
 "cells": [
  {
   "cell_type": "markdown",
   "metadata": {},
   "source": [
    "### list\n",
    "        - create\n",
    "        - indexing and slicing\n",
    "        - traversing\n",
    "        - manipulate"
   ]
  },
  {
   "cell_type": "markdown",
   "metadata": {},
   "source": [
    "### "
   ]
  },
  {
   "cell_type": "code",
   "execution_count": 1,
   "metadata": {},
   "outputs": [
    {
     "name": "stdout",
     "output_type": "stream",
     "text": [
      "[]\n"
     ]
    }
   ],
   "source": [
    "a=[] # empty list\n",
    "print(a)"
   ]
  },
  {
   "cell_type": "code",
   "execution_count": 4,
   "metadata": {},
   "outputs": [
    {
     "name": "stdout",
     "output_type": "stream",
     "text": [
      "[1, 2, 3]\n",
      "['alpha', 'beta', 'gamma']\n",
      "['arun', 100, 'varun', 150]\n",
      "[{1, 2, 3}, {4, 5, 6}]\n",
      "[1, 2, 3]\n",
      "[[1, 2, 3], [1, 2, 3], [1, 2, 3], [1, 2, 3]]\n",
      "[2, 2, 2, 2, 2, 2, 2, 2, 2, 2]\n"
     ]
    }
   ],
   "source": [
    "b=[1,2,3]\n",
    "c=['alpha','beta','gamma'] #string list\n",
    "d=['arun',100,'varun',150] # mixed datatype\n",
    "e=[{1,2,3},{4,5,6}] # nested list\n",
    "f=[1,2,3]\n",
    "g=[f,f,f,f]\n",
    "h=[2]*10\n",
    "print(b)\n",
    "print(c)\n",
    "print(d)\n",
    "print(e)\n",
    "print(f)\n",
    "print(g)#list of list\n",
    "print(h)# list of multiplication"
   ]
  },
  {
   "cell_type": "markdown",
   "metadata": {},
   "source": []
  },
  {
   "cell_type": "code",
   "execution_count": 6,
   "metadata": {},
   "outputs": [
    {
     "name": "stdout",
     "output_type": "stream",
     "text": [
      "3\n"
     ]
    }
   ],
   "source": [
    "print(b[-1])"
   ]
  },
  {
   "cell_type": "code",
   "execution_count": 7,
   "metadata": {},
   "outputs": [
    {
     "name": "stdout",
     "output_type": "stream",
     "text": [
      "first three [12, 34, 54]\n",
      "last three [12, 34, 54]\n",
      "except fist and last two [54, 554, 84, 2]\n",
      "reverse [45, 45, 2, 84, 554, 54, 34, 12]\n",
      "even [12, 54, 84, 45]\n"
     ]
    }
   ],
   "source": [
    "num=[12,34,54,554,84,2,45,45]\n",
    "print('first three', num[:3])\n",
    "print('last three', num[:3])\n",
    "print('except fist and last two', num[2:-2])\n",
    "print('reverse', num[::-1])\n",
    "print('even', num[::2])"
   ]
  },
  {
   "cell_type": "code",
   "execution_count": 8,
   "metadata": {},
   "outputs": [
    {
     "name": "stdout",
     "output_type": "stream",
     "text": [
      "arun is string\n",
      "100 is int\n",
      "varun is string\n",
      "150 is int\n"
     ]
    }
   ],
   "source": [
    "num[0]=120\n",
    "for i in d:\n",
    "     if isinstance(i,str):\n",
    "          print(i,\"is string\")\n",
    "     elif isinstance(i,int):\n",
    "          print(i,\"is int\")\n",
    "     else: \n",
    "          print(i,\"is unknown\")"
   ]
  },
  {
   "cell_type": "markdown",
   "metadata": {},
   "source": [
    "- list method\n",
    "        - adding\n",
    "            - append()\n",
    "            - insert()\n",
    "            - extend()\n",
    "        - remove\n",
    "            - remove() # value Wise remove\n",
    "            - pop()     # index wise extract\n",
    "            - clear()\n",
    "        - manipulate\n",
    "            - count()\n",
    "            - reverse()\n",
    "            - copy()\n",
    "            - index()\n"
   ]
  },
  {
   "cell_type": "code",
   "execution_count": 22,
   "metadata": {},
   "outputs": [
    {
     "name": "stdout",
     "output_type": "stream",
     "text": [
      "['red', 'pink', 'orange']\n"
     ]
    }
   ],
   "source": [
    "#manipulating\n",
    "color=[]\n",
    "color.append('red')\n",
    "color.append('pink')\n",
    "color.append('orange')\n",
    "print(color)\n"
   ]
  },
  {
   "cell_type": "code",
   "execution_count": 13,
   "metadata": {},
   "outputs": [
    {
     "data": {
      "text/plain": [
       "['red', 'pink', 'brown', 'brown', 'orange']"
      ]
     },
     "execution_count": 13,
     "metadata": {},
     "output_type": "execute_result"
    }
   ],
   "source": [
    "color.insert(2,'brown')\n",
    "color"
   ]
  },
  {
   "cell_type": "code",
   "execution_count": 15,
   "metadata": {},
   "outputs": [
    {
     "name": "stdout",
     "output_type": "stream",
     "text": [
      "[1, 2, 3, 4, 5, 6, 7, 2, 3, 5, 6, 8]\n",
      "[1, 2, 2, 3, 3, 4, 5, 5, 6, 6, 7, 8]\n"
     ]
    }
   ],
   "source": [
    "x=[1,2,3,4,5,6,7]\n",
    "y=[2,3,5,6,8]\n",
    "x.extend(y)\n",
    "print(x)\n",
    "x.sort()\n",
    "print(x)"
   ]
  },
  {
   "cell_type": "code",
   "execution_count": 16,
   "metadata": {},
   "outputs": [],
   "source": [
    "color.remove('brown')\n",
    "y=color.pop(2)\n",
    "y=color.pop()# extract last element"
   ]
  },
  {
   "cell_type": "code",
   "execution_count": 17,
   "metadata": {},
   "outputs": [
    {
     "name": "stdout",
     "output_type": "stream",
     "text": [
      "5\n"
     ]
    }
   ],
   "source": [
    "x=[1,2,21,53,2,1,1,1,2,1]\n",
    "print(x.count(1))"
   ]
  },
  {
   "cell_type": "code",
   "execution_count": 19,
   "metadata": {},
   "outputs": [
    {
     "name": "stdout",
     "output_type": "stream",
     "text": [
      "[[1, 2], [3, 4], [7, 3]]\n",
      "[53, 21, 2, 2, 2, 1, 1, 1, 1, 1]\n"
     ]
    }
   ],
   "source": [
    "a=[[1,2],[3,4],[7,3]]\n",
    "a.sort()\n",
    "print(a)\n",
    "x.sort(reverse=True)\n",
    "print(x)"
   ]
  },
  {
   "cell_type": "code",
   "execution_count": 23,
   "metadata": {},
   "outputs": [
    {
     "data": {
      "text/plain": [
       "0"
      ]
     },
     "execution_count": 23,
     "metadata": {},
     "output_type": "execute_result"
    }
   ],
   "source": [
    "color.index('red')"
   ]
  }
 ],
 "metadata": {
  "kernelspec": {
   "display_name": "base",
   "language": "python",
   "name": "python3"
  },
  "language_info": {
   "codemirror_mode": {
    "name": "ipython",
    "version": 3
   },
   "file_extension": ".py",
   "mimetype": "text/x-python",
   "name": "python",
   "nbconvert_exporter": "python",
   "pygments_lexer": "ipython3",
   "version": "3.11.4"
  }
 },
 "nbformat": 4,
 "nbformat_minor": 2
}
