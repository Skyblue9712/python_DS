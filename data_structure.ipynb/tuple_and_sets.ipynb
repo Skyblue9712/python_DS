{
 "cells": [
  {
   "cell_type": "markdown",
   "metadata": {},
   "source": [
    "# tuple\n",
    "python handles multiple values as tuple\n",
    "- create\n",
    "- tuple packing and unpacking\n"
   ]
  },
  {
   "cell_type": "code",
   "execution_count": 1,
   "metadata": {},
   "outputs": [
    {
     "name": "stdout",
     "output_type": "stream",
     "text": [
      "(1, 2, 3)\n",
      "(1, 5, 7)\n"
     ]
    }
   ],
   "source": [
    "x = (1,2,3) #tuple\n",
    "y = 1,5,7 #tuple\n",
    "print(x)\n",
    "print(y)"
   ]
  },
  {
   "cell_type": "code",
   "execution_count": 2,
   "metadata": {},
   "outputs": [
    {
     "name": "stdout",
     "output_type": "stream",
     "text": [
      "(0, 't')\n",
      "(1, 'u')\n",
      "(2, 'p')\n",
      "(3, 'l')\n",
      "(4, 'e')\n"
     ]
    }
   ],
   "source": [
    "word ='tuple'\n",
    "for i in enumerate(word):\n",
    "     print(i)"
   ]
  },
  {
   "cell_type": "markdown",
   "metadata": {},
   "source": [
    "count and index same work"
   ]
  },
  {
   "cell_type": "code",
   "execution_count": 3,
   "metadata": {},
   "outputs": [
    {
     "name": "stdout",
     "output_type": "stream",
     "text": [
      "5\n",
      "1\n",
      "6\n"
     ]
    }
   ],
   "source": [
    "x=1,2,1,1,1,1,2,2,2,2\n",
    "print(x.count(2))\n",
    "print(x.index(2))\n",
    "print(x.index(2,3))"
   ]
  },
  {
   "cell_type": "code",
   "execution_count": 4,
   "metadata": {},
   "outputs": [
    {
     "name": "stdout",
     "output_type": "stream",
     "text": [
      "gamma alpha beta\n"
     ]
    }
   ],
   "source": [
    "data= ('alpha','beta','gamma')\n",
    "a,b,c=data #unpacking\n",
    "print(c,a,b)"
   ]
  },
  {
   "cell_type": "code",
   "execution_count": 5,
   "metadata": {},
   "outputs": [],
   "source": [
    "data=('alpha','beta','gamma','delta','epsilon')\n"
   ]
  },
  {
   "cell_type": "code",
   "execution_count": 10,
   "metadata": {},
   "outputs": [
    {
     "name": "stdout",
     "output_type": "stream",
     "text": [
      "alpha ['beta', 'gamma', 'delta', 'epsilon']\n",
      "alpha ['beta', 'gamma', 'delta'] epsilon\n",
      "alpha beta ['gamma', 'delta'] epsilon\n"
     ]
    }
   ],
   "source": [
    "#take first value in one variable and rest all in second variable.\n",
    "a,*b=data\n",
    "print(a, b)\n",
    "a,*b,c=data\n",
    "print(a, b ,c)\n",
    "a,d,*b,c=data\n",
    "print(a,d, b ,c)"
   ]
  },
  {
   "cell_type": "code",
   "execution_count": 11,
   "metadata": {},
   "outputs": [
    {
     "name": "stdout",
     "output_type": "stream",
     "text": [
      "(1,) <class 'tuple'>\n"
     ]
    }
   ],
   "source": [
    "x=()#stupidity\n",
    "x=(1,)#single element tuple\n",
    "print(x,type(x))"
   ]
  },
  {
   "cell_type": "markdown",
   "metadata": {},
   "source": [
    "set\n",
    "    - create\n",
    "    - methods\n",
    "    - set operation"
   ]
  },
  {
   "cell_type": "code",
   "execution_count": 25,
   "metadata": {},
   "outputs": [
    {
     "name": "stdout",
     "output_type": "stream",
     "text": [
      "set()\n",
      "{1, 2, 3}\n",
      "{1, 2, 4, 5, 6, 7, 8, 9}\n"
     ]
    },
    {
     "data": {
      "text/plain": [
       "{'A', 'D', 'G', 'R'}"
      ]
     },
     "execution_count": 25,
     "metadata": {},
     "output_type": "execute_result"
    }
   ],
   "source": [
    "a= set()# empty set\n",
    "b= {1,2,3}\n",
    "c={1,2,5,4,2,7,8,6,9,4,5}\n",
    "print(a)\n",
    "print(b)\n",
    "print(c)\n",
    "d={'A','D','R','G'}\n",
    "d\n"
   ]
  },
  {
   "cell_type": "code",
   "execution_count": 39,
   "metadata": {},
   "outputs": [
    {
     "name": "stdout",
     "output_type": "stream",
     "text": [
      "{0, 1, 2, 4, 5, 6, 7, 8, 9, 55}\n",
      "{'G', 'D', 'y', 'f', 'R', 'A'}\n"
     ]
    }
   ],
   "source": [
    "c.add(55)\n",
    "print(c)\n",
    "d.update('f','y')\n",
    "print(d)"
   ]
  },
  {
   "cell_type": "code",
   "execution_count": 40,
   "metadata": {},
   "outputs": [
    {
     "name": "stdout",
     "output_type": "stream",
     "text": [
      "{0, 1, 2, 4, 5, 6, 7, 8, 9}\n",
      "{0, 1, 2, 4, 5, 6, 7, 8, 9}\n"
     ]
    }
   ],
   "source": [
    "c.remove(55)\n",
    "print(c)\n",
    "c.discard(3)\n",
    "print(c)"
   ]
  },
  {
   "cell_type": "code",
   "execution_count": 41,
   "metadata": {},
   "outputs": [
    {
     "name": "stdout",
     "output_type": "stream",
     "text": [
      "{1, 2, 4, 5, 6, 7, 8, 9}\n"
     ]
    }
   ],
   "source": [
    "c.pop()#remove random element\n",
    "print(c)"
   ]
  },
  {
   "cell_type": "code",
   "execution_count": 1,
   "metadata": {},
   "outputs": [],
   "source": [
    "movies1={'aaa','bbb','ccc','eee','ddd'}\n",
    "movies2={'fff','ggg','hhhh','iii','jjj'}\n",
    "movies3={'aaa','bbb','ccc','fff','ggg','hhh','kkk'}"
   ]
  },
  {
   "cell_type": "markdown",
   "metadata": {},
   "source": [
    "- | union\n",
    "- & intersection\n",
    "- - difference\n",
    "- ^ symmetric difference"
   ]
  },
  {
   "cell_type": "code",
   "execution_count": 4,
   "metadata": {},
   "outputs": [
    {
     "name": "stdout",
     "output_type": "stream",
     "text": [
      "{'fff', 'eee', 'aaa', 'ggg', 'hhh', 'kkk', 'bbb', 'ccc', 'ddd'}\n",
      "{'fff', 'eee', 'aaa', 'ggg', 'hhh', 'kkk', 'bbb', 'ccc', 'ddd'}\n"
     ]
    }
   ],
   "source": [
    "print(movies1.union(movies3))\n",
    "print(movies1 | movies3)"
   ]
  },
  {
   "cell_type": "code",
   "execution_count": 5,
   "metadata": {},
   "outputs": [
    {
     "name": "stdout",
     "output_type": "stream",
     "text": [
      "{'aaa', 'ccc', 'bbb'}\n",
      "{'aaa', 'ccc', 'bbb'}\n"
     ]
    }
   ],
   "source": [
    "print(movies1.intersection(movies3))\n",
    "print(movies1 & movies3)"
   ]
  },
  {
   "cell_type": "code",
   "execution_count": 6,
   "metadata": {},
   "outputs": [
    {
     "name": "stdout",
     "output_type": "stream",
     "text": [
      "{'eee', 'ddd'}\n",
      "{'eee', 'ddd'}\n"
     ]
    }
   ],
   "source": [
    "print(movies1.difference(movies3))\n",
    "print(movies1 - movies3)"
   ]
  },
  {
   "cell_type": "code",
   "execution_count": 7,
   "metadata": {},
   "outputs": [
    {
     "name": "stdout",
     "output_type": "stream",
     "text": [
      "{'fff', 'eee', 'ggg', 'hhh', 'kkk', 'ddd'}\n",
      "{'fff', 'eee', 'ggg', 'hhh', 'kkk', 'ddd'}\n"
     ]
    }
   ],
   "source": [
    "print(movies1.symmetric_difference(movies3))\n",
    "print(movies1 ^ movies3)"
   ]
  },
  {
   "cell_type": "code",
   "execution_count": 8,
   "metadata": {},
   "outputs": [
    {
     "data": {
      "text/plain": [
       "False"
      ]
     },
     "execution_count": 8,
     "metadata": {},
     "output_type": "execute_result"
    }
   ],
   "source": [
    "movies3.issuperset(movies2)"
   ]
  },
  {
   "cell_type": "code",
   "execution_count": 9,
   "metadata": {},
   "outputs": [
    {
     "data": {
      "text/plain": [
       "False"
      ]
     },
     "execution_count": 9,
     "metadata": {},
     "output_type": "execute_result"
    }
   ],
   "source": [
    "movies3.isdisjoint(movies2)# nothing is common"
   ]
  }
 ],
 "metadata": {
  "kernelspec": {
   "display_name": "base",
   "language": "python",
   "name": "python3"
  },
  "language_info": {
   "codemirror_mode": {
    "name": "ipython",
    "version": 3
   },
   "file_extension": ".py",
   "mimetype": "text/x-python",
   "name": "python",
   "nbconvert_exporter": "python",
   "pygments_lexer": "ipython3",
   "version": "3.11.4"
  }
 },
 "nbformat": 4,
 "nbformat_minor": 2
}
