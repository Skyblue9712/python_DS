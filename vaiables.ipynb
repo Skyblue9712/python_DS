{
 "cells": [
  {
   "cell_type": "code",
   "execution_count": 1,
   "metadata": {},
   "outputs": [
    {
     "name": "stdout",
     "output_type": "stream",
     "text": [
      "hello python\n"
     ]
    }
   ],
   "source": [
    "print(\"hello python\")"
   ]
  },
  {
   "cell_type": "markdown",
   "metadata": {},
   "source": []
  },
  {
   "cell_type": "code",
   "execution_count": 2,
   "metadata": {},
   "outputs": [
    {
     "ename": "SyntaxError",
     "evalue": "invalid syntax (573907252.py, line 1)",
     "output_type": "error",
     "traceback": [
      "\u001b[1;36m  Cell \u001b[1;32mIn[2], line 1\u001b[1;36m\u001b[0m\n\u001b[1;33m    ARITHMATIC OPERATOR\u001b[0m\n\u001b[1;37m               ^\u001b[0m\n\u001b[1;31mSyntaxError\u001b[0m\u001b[1;31m:\u001b[0m invalid syntax\n"
     ]
    }
   ],
   "source": [
    "ARITHMATIC OPERATOR"
   ]
  },
  {
   "cell_type": "code",
   "execution_count": null,
   "metadata": {},
   "outputs": [],
   "source": []
  },
  {
   "cell_type": "markdown",
   "metadata": {},
   "source": [
    "ARITHMAIC OPERATOR\n"
   ]
  },
  {
   "cell_type": "code",
   "execution_count": 4,
   "metadata": {},
   "outputs": [
    {
     "name": "stdout",
     "output_type": "stream",
     "text": [
      "enter any two numbers for performing arithmatic operation\n",
      "ENTERED VALUES : \n",
      "a=  4.0      b= 8.0\n",
      "ENTER THE FOLLOWING NUMBER FOR CORRESPONDING OPERATION:\n",
      "1:ADDITION\n",
      "2:SUBSTRACTION\n",
      "3:MULTIPLICATION\n",
      "4:DIVISION\n",
      "5:REMAINDER\n",
      "6:QUOTIENT\n",
      "7:EXPONENT\n",
      "1\n",
      "Sum = 12.0\n"
     ]
    }
   ],
   "source": [
    "print(\"enter any two numbers for performing arithmatic operation\")\n",
    "a=float(input())\n",
    "b=float(input())\n",
    "print(\"ENTERED VALUES : \")\n",
    "print(\"a= \",a,\"     b=\",b)\n",
    "print(\"ENTER THE FOLLOWING NUMBER FOR CORRESPONDING OPERATION:\")\n",
    "print(\"1:ADDITION\")\n",
    "print(\"2:SUBSTRACTION\")\n",
    "print(\"3:MULTIPLICATION\")\n",
    "print(\"4:DIVISION\")\n",
    "print(\"5:REMAINDER\")\n",
    "print(\"6:QUOTIENT\")\n",
    "print(\"7:EXPONENT\")\n",
    "op=int(input())\n",
    "print(op)\n",
    "if op==1:\n",
    "    print(\"Sum =\",a+b)\n",
    "elif op==2:\n",
    "    print(\"Substraction =\",a-b)\n",
    "elif op==3:\n",
    "    print(\"Multiplication =\",a*b)\n",
    "elif op==4:\n",
    "    print(\"Division=\",a/b)\n",
    "elif op==5:\n",
    "    print(\"Remainder=\",a%b)\n",
    "elif op==6:\n",
    "    print(\"Quotient=\",a//b)\n",
    "elif op==7:\n",
    "    print(\"Exponent=\",a**b)\n",
    "else:  print(\"YOU HAVE ENTERED AN INCORRECT NUMBER\")\n"
   ]
  },
  {
   "cell_type": "markdown",
   "metadata": {},
   "source": [
    "ASSIGNMENT OPERATOR//SHORT- HAND OPERATOR"
   ]
  },
  {
   "cell_type": "code",
   "execution_count": 2,
   "metadata": {},
   "outputs": [
    {
     "name": "stdout",
     "output_type": "stream",
     "text": [
      "10\n",
      "30\n",
      "20\n",
      "200\n",
      "100.0\n",
      "50.0\n",
      "2500.0\n"
     ]
    }
   ],
   "source": [
    "a=10\n",
    "print(a)\n",
    "a+=20\n",
    "print(a)\n",
    "a-=10\n",
    "print(a)\n",
    "a*=10\n",
    "print(a)\n",
    "a/=2\n",
    "print(a)\n",
    "a//=2\n",
    "print(a)\n",
    "a**=2\n",
    "print(a)"
   ]
  },
  {
   "cell_type": "markdown",
   "metadata": {},
   "source": [
    "COMPARISON OPERATOR "
   ]
  },
  {
   "cell_type": "code",
   "execution_count": 11,
   "metadata": {},
   "outputs": [
    {
     "name": "stdout",
     "output_type": "stream",
     "text": [
      "True\n",
      "True\n",
      "False\n",
      "False\n",
      "False\n",
      "True\n",
      "True\n"
     ]
    }
   ],
   "source": [
    "x=5\n",
    "y=x==5\n",
    "print(x==5)\n",
    "print(y)\n",
    "print(x!=5)\n",
    "print(x>5)\n",
    "print(x<5)\n",
    "print(x>=5)\n",
    "print(x<=5)\n"
   ]
  },
  {
   "cell_type": "markdown",
   "metadata": {},
   "source": [
    "LOGICAL OPERATOR"
   ]
  },
  {
   "cell_type": "code",
   "execution_count": 14,
   "metadata": {},
   "outputs": [
    {
     "name": "stdout",
     "output_type": "stream",
     "text": [
      "False\n",
      "False\n",
      "True\n"
     ]
    }
   ],
   "source": [
    "print(a<5 and a==5)\n",
    "print(a<5 or a==5)\n",
    "print(not(a<5 and a==5))"
   ]
  },
  {
   "cell_type": "markdown",
   "metadata": {},
   "source": [
    "IDENTITY OPERATOR"
   ]
  },
  {
   "cell_type": "code",
   "execution_count": 22,
   "metadata": {},
   "outputs": [
    {
     "name": "stdout",
     "output_type": "stream",
     "text": [
      "True\n",
      "True\n"
     ]
    }
   ],
   "source": [
    "x=\"Akash\"\n",
    "y=\"Akash\"\n",
    "z=\"5\"\n",
    "print(x is y)\n",
    "print(x is not z)\n"
   ]
  },
  {
   "cell_type": "markdown",
   "metadata": {},
   "source": [
    "Membership operator"
   ]
  },
  {
   "cell_type": "code",
   "execution_count": 31,
   "metadata": {},
   "outputs": [
    {
     "name": "stdout",
     "output_type": "stream",
     "text": [
      "True\n",
      "True\n",
      "True\n"
     ]
    },
    {
     "data": {
      "text/plain": [
       "False"
      ]
     },
     "execution_count": 31,
     "metadata": {},
     "output_type": "execute_result"
    }
   ],
   "source": [
    "x=\"this world is beautiful\"\n",
    "y=\"world\"\n",
    "z=\"w\"\n",
    "print(y in x)\n",
    "print(z in y)\n",
    "print(y not in z)\n",
    "z not in y"
   ]
  },
  {
   "cell_type": "markdown",
   "metadata": {},
   "source": [
    "BITWISE OPERATOR"
   ]
  },
  {
   "cell_type": "code",
   "execution_count": 37,
   "metadata": {},
   "outputs": [
    {
     "name": "stdout",
     "output_type": "stream",
     "text": [
      "0\n"
     ]
    }
   ],
   "source": [
    "x=7\n",
    "y=8\n",
    "print(x&y)"
   ]
  }
 ],
 "metadata": {
  "kernelspec": {
   "display_name": "base",
   "language": "python",
   "name": "python3"
  },
  "language_info": {
   "codemirror_mode": {
    "name": "ipython",
    "version": 3
   },
   "file_extension": ".py",
   "mimetype": "text/x-python",
   "name": "python",
   "nbconvert_exporter": "python",
   "pygments_lexer": "ipython3",
   "version": "3.11.4"
  },
  "orig_nbformat": 4
 },
 "nbformat": 4,
 "nbformat_minor": 2
}
