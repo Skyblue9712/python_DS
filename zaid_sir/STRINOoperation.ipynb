{
 "cells": [
  {
   "cell_type": "markdown",
   "metadata": {},
   "source": [
    "# string operation\n",
    " - find\n",
    " - replace\n",
    " - split\n",
    " - join\n",
    " - strip\n",
    " - count\n",
    " - remove prefix\n",
    " - remove postfix"
   ]
  },
  {
   "cell_type": "markdown",
   "metadata": {},
   "source": [
    "### find"
   ]
  },
  {
   "cell_type": "code",
   "execution_count": 7,
   "metadata": {},
   "outputs": [
    {
     "name": "stdout",
     "output_type": "stream",
     "text": [
      "12\n",
      "-1\n",
      "25\n",
      "-1\n",
      "6\n"
     ]
    }
   ],
   "source": [
    "msg='hgfsj kdhfl message in a normal world'\n",
    "print(msg.find('message'))\n",
    "print(msg.find('ab'))\n",
    "print(msg.find('normal', 8))#it specify starting index\n",
    "print(msg.find('in',0,12 ))\n",
    "print(msg.count(\" \"))"
   ]
  },
  {
   "cell_type": "code",
   "execution_count": 6,
   "metadata": {},
   "outputs": [
    {
     "name": "stdout",
     "output_type": "stream",
     "text": [
      "hgfsj kdhfl message in a normal World\n",
      "hgfsj kdhfl message in a n🎈rmal w🎈rld\n"
     ]
    }
   ],
   "source": [
    "print(msg.replace(\"world\", \"World\"))\n",
    "print(msg.replace(\"o\", \"🎈\"))"
   ]
  },
  {
   "cell_type": "markdown",
   "metadata": {},
   "source": []
  },
  {
   "cell_type": "code",
   "execution_count": 5,
   "metadata": {},
   "outputs": [
    {
     "name": "stdout",
     "output_type": "stream",
     "text": [
      "c:_user_lenovo_document_secreatfile.txt\n",
      "c:/user/lenovo/document/secreatfile.txt\n",
      "c:, user, lenovo, document, secreatfile.txt\n"
     ]
    }
   ],
   "source": [
    "pat = ['c:','user','lenovo','document', 'secreatfile.txt']\n",
    "print('_'.join(pat))\n",
    "print('/'.join(pat))\n",
    "print(', '.join(pat))\n",
    "gs=\"/\"\n"
   ]
  },
  {
   "cell_type": "code",
   "execution_count": 6,
   "metadata": {},
   "outputs": [
    {
     "name": "stdout",
     "output_type": "stream",
     "text": [
      "13\n",
      "11\n"
     ]
    }
   ],
   "source": [
    "kachra= ' hello world '\n",
    "cleaned_s=kachra.strip()\n",
    "print(len(kachra))\n",
    "print(len(cleaned_s))"
   ]
  },
  {
   "cell_type": "code",
   "execution_count": 7,
   "metadata": {},
   "outputs": [
    {
     "name": "stdout",
     "output_type": "stream",
     "text": [
      "content\n",
      "!!!!!!!!!!content\n",
      "content!!!!!!!!\n"
     ]
    }
   ],
   "source": [
    "word='!!!!!!!!!!content!!!!!!!!'\n",
    "print(word.strip('!'))\n",
    "print(word.rstrip('!'))\n",
    "print(word.lstrip('!'))"
   ]
  }
 ],
 "metadata": {
  "kernelspec": {
   "display_name": "base",
   "language": "python",
   "name": "python3"
  },
  "language_info": {
   "codemirror_mode": {
    "name": "ipython",
    "version": 3
   },
   "file_extension": ".py",
   "mimetype": "text/x-python",
   "name": "python",
   "nbconvert_exporter": "python",
   "pygments_lexer": "ipython3",
   "version": "3.11.4"
  }
 },
 "nbformat": 4,
 "nbformat_minor": 2
}
