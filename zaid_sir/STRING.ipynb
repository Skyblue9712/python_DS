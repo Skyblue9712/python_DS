{
 "cells": [
  {
   "cell_type": "markdown",
   "metadata": {},
   "source": [
    "- indexing\n",
    "- slicing\n",
    "- method\n",
    "- operation"
   ]
  },
  {
   "cell_type": "code",
   "execution_count": 2,
   "metadata": {},
   "outputs": [
    {
     "name": "stdout",
     "output_type": "stream",
     "text": [
      "s\n",
      "e\n",
      "s\n"
     ]
    }
   ],
   "source": [
    "name= \"shakespeare\"\n",
    "print(name[0])\n",
    "print(name[-1])\n",
    "print(name[-11])"
   ]
  },
  {
   "cell_type": "markdown",
   "metadata": {},
   "source": [
    "# slicing"
   ]
  },
  {
   "cell_type": "code",
   "execution_count": 10,
   "metadata": {},
   "outputs": [
    {
     "name": "stdout",
     "output_type": "stream",
     "text": [
      "23\n",
      "Vijay\n",
      "Vijay Deenanath Chauha\n",
      "nahuahC htananeeD yajiV\n"
     ]
    }
   ],
   "source": [
    "name= 'Vijay Deenanath Chauhan'\n",
    "print(len(name))\n",
    "print(name[0:2+3])\n",
    "print(name[0:-1])# moves always left to right\n",
    "print(name[::-1])# reverse"
   ]
  },
  {
   "cell_type": "code",
   "execution_count": 8,
   "metadata": {},
   "outputs": [
    {
     "name": "stdout",
     "output_type": "stream",
     "text": [
      "William\n",
      "Shake\n",
      "pear\n",
      "spear\n",
      "liam\n",
      "are\n"
     ]
    }
   ],
   "source": [
    "n='William Shakespeare'\n",
    "print(n[:7])\n",
    "print(n[8:13])\n",
    "print(n[14:-1])\n",
    "print(n[13:-1])\n",
    "print(n[3:7])\n",
    "print(n[16:])"
   ]
  },
  {
   "cell_type": "markdown",
   "metadata": {},
   "source": [
    "# methods string\n",
    "   - formating methods\n",
    "        -upper()\n",
    "        -lower()\n",
    "        -capitalize()\n",
    "   - validation\n",
    "        -isupper()\n",
    "        -islower()\n",
    "        -endswith()\n",
    "   - utility\n",
    "        - replace()\n",
    "        - find()\n",
    "        - count()"
   ]
  },
  {
   "cell_type": "code",
   "execution_count": 9,
   "metadata": {},
   "outputs": [
    {
     "data": {
      "text/plain": [
       "'VIJAY DEENANATH CHAUHAN'"
      ]
     },
     "execution_count": 9,
     "metadata": {},
     "output_type": "execute_result"
    }
   ],
   "source": [
    "name.upper()"
   ]
  },
  {
   "cell_type": "code",
   "execution_count": 18,
   "metadata": {},
   "outputs": [
    {
     "name": "stdout",
     "output_type": "stream",
     "text": [
      "Vijay Deenanath Chauhan\n",
      "vijay deenanath chauhan\n",
      "VIJAY DEENANATH CHAUHAN\n",
      "Vijay deenanath chauhan\n",
      "Vijay Deenanath Chauhan\n",
      "vIJAY dEENANATH cHAUHAN\n",
      "abc srt dfgsfb\n"
     ]
    }
   ],
   "source": [
    "n=\"AbC SRT d\"\n",
    "print(name)\n",
    "print(name.lower())\n",
    "print(name.upper())\n",
    "print(name.capitalize())\n",
    "print(name.title())\n",
    "print(name.swapcase())\n",
    "print(n.casefold())# same as lowercase"
   ]
  },
  {
   "cell_type": "markdown",
   "metadata": {},
   "source": []
  },
  {
   "cell_type": "code",
   "execution_count": 14,
   "metadata": {},
   "outputs": [
    {
     "name": "stdout",
     "output_type": "stream",
     "text": [
      "10*15.15=151.5\n"
     ]
    }
   ],
   "source": [
    "x= 10\n",
    "y= 15.15\n",
    "z= x*y\n",
    "print(\"{}*{}={}\".format(x,y,z))"
   ]
  },
  {
   "cell_type": "code",
   "execution_count": 37,
   "metadata": {},
   "outputs": [
    {
     "name": "stdout",
     "output_type": "stream",
     "text": [
      "upper : False\n",
      "lower : True\n",
      "endswith : True\n"
     ]
    }
   ],
   "source": [
    "a = input('enter any string')\n",
    "b='with'\n",
    "print(f'upper : {a.isupper()}')\n",
    "print(f'lower : {a.islower()}')\n",
    "print(f'endswith : {a.startswith(b)}')"
   ]
  },
  {
   "cell_type": "code",
   "execution_count": 34,
   "metadata": {},
   "outputs": [
    {
     "name": "stdout",
     "output_type": "stream",
     "text": [
      "very good\n"
     ]
    }
   ],
   "source": [
    "num = input('enter a number :')\n",
    "if num.isnumeric():\n",
    "    num = int(num)\n",
    "    print('very good')\n",
    "else:\n",
    "  print('enter number only')"
   ]
  },
  {
   "cell_type": "code",
   "execution_count": 16,
   "metadata": {},
   "outputs": [
    {
     "name": "stdout",
     "output_type": "stream",
     "text": [
      "True\n"
     ]
    }
   ],
   "source": [
    "x= \"ashksdl sdfkdj\"\n",
    "print(x.startswith('as'))"
   ]
  },
  {
   "cell_type": "code",
   "execution_count": 21,
   "metadata": {},
   "outputs": [
    {
     "name": "stdout",
     "output_type": "stream",
     "text": [
      "song.mp3\n",
      "song2.mp3\n"
     ]
    }
   ],
   "source": [
    "files = ['song.mp3','song2.mp3','thumb.png']\n",
    "for i in files:\n",
    "     if(i.endswith('mp3')==True):\n",
    "          print(i)"
   ]
  }
 ],
 "metadata": {
  "kernelspec": {
   "display_name": "base",
   "language": "python",
   "name": "python3"
  },
  "language_info": {
   "codemirror_mode": {
    "name": "ipython",
    "version": 3
   },
   "file_extension": ".py",
   "mimetype": "text/x-python",
   "name": "python",
   "nbconvert_exporter": "python",
   "pygments_lexer": "ipython3",
   "version": "3.11.4"
  }
 },
 "nbformat": 4,
 "nbformat_minor": 2
}
