{
 "cells": [
  {
   "cell_type": "markdown",
   "metadata": {},
   "source": [
    "# conditions\n",
    " - if condition\n",
    " - if else condition\n",
    " - if elif else ladder\n",
    " - nested conditions\n",
    "  match case\n",
    "# conditional operator and logical operator\n",
    "   `> < >= <= == !=`\n",
    "   `and or not`"
   ]
  },
  {
   "cell_type": "code",
   "execution_count": 2,
   "metadata": {},
   "outputs": [
    {
     "name": "stdout",
     "output_type": "stream",
     "text": [
      "end\n"
     ]
    }
   ],
   "source": [
    "x=-10\n",
    "if x>5:\n",
    "    print('yes')\n",
    "    print('hello')\n",
    "print('end')"
   ]
  },
  {
   "cell_type": "code",
   "execution_count": 1,
   "metadata": {},
   "outputs": [
    {
     "name": "stdout",
     "output_type": "stream",
     "text": [
      "simple interest=20.0\n"
     ]
    }
   ],
   "source": [
    "p=int(input('enter principal value'))\n",
    "r=int(input('enter rate value'))\n",
    "t=int(input('enter time value'))\n",
    "print(f'simple interest={p*r*t/100}')"
   ]
  },
  {
   "cell_type": "code",
   "execution_count": 3,
   "metadata": {},
   "outputs": [
    {
     "name": "stdout",
     "output_type": "stream",
     "text": [
      "simple interest=900.0\n"
     ]
    }
   ],
   "source": [
    "p=int(input('enter principal value'))\n",
    "t=int(input('enter time value'))\n",
    "if p >=15000:\n",
    "    r=3\n",
    "else:\n",
    "    r=4\n",
    "print(f'simple interest={p*r*t/100}')\n"
   ]
  },
  {
   "cell_type": "code",
   "execution_count": 5,
   "metadata": {},
   "outputs": [
    {
     "name": "stdout",
     "output_type": "stream",
     "text": [
      "100 is greater than 20\n",
      "100 is greater than 20\n"
     ]
    }
   ],
   "source": [
    "x=100# multiple if condition\n",
    "if x>20:\n",
    "    print(x,'is greater than 20')\n",
    "if x>-20:\n",
    "    print(x,'is greater than 20')"
   ]
  },
  {
   "cell_type": "markdown",
   "metadata": {},
   "source": [
    "# if elif (related conditions) (conditional ladder)"
   ]
  },
  {
   "cell_type": "code",
   "execution_count": 6,
   "metadata": {},
   "outputs": [
    {
     "name": "stdout",
     "output_type": "stream",
     "text": [
      "7  is greater than 10\n"
     ]
    }
   ],
   "source": [
    "a,b=2,5\n",
    "if a+b>10:\n",
    "    print(a+b,' is greater than 10')\n",
    "elif a+b>5:\n",
    "    print(a+b,' is greater than 10')\n",
    "elif a+b>0:\n",
    "    print(a+b,' is greater than 10')"
   ]
  },
  {
   "cell_type": "markdown",
   "metadata": {},
   "source": [
    "wap to cal total salary of employee based on following conditions\n",
    "- BS is gt 25000, hra =30% of Bs, da = 95% of bs\n",
    "- BS is gt 20000, hra =30% of Bs, da = 90% of bs\n",
    "- BS is gt 15000, hra =30% of Bs, da = 85% of bs"
   ]
  },
  {
   "cell_type": "code",
   "execution_count": 12,
   "metadata": {},
   "outputs": [
    {
     "name": "stdout",
     "output_type": "stream",
     "text": [
      "total salary = 53750.0\n"
     ]
    }
   ],
   "source": [
    "bs= int(input(\"enter your basic salary\"))\n",
    "if bs > 25000:\n",
    "    print(f'total salary = {bs*(1+.3+.95)}')\n",
    "elif bs > 20000:\n",
    "    print(f'total salary = {bs*(1+.25+.9)}')\n",
    "elif bs > 15000:\n",
    "    print(f'total salary = {bs*(1+.2+.85)}')\n",
    "else:\n",
    "     print(f'total salary = {bs}')"
   ]
  },
  {
   "cell_type": "markdown",
   "metadata": {},
   "source": [
    "# match case"
   ]
  },
  {
   "cell_type": "code",
   "execution_count": 13,
   "metadata": {},
   "outputs": [
    {
     "name": "stdout",
     "output_type": "stream",
     "text": [
      "welcome mr. ajay\n"
     ]
    }
   ],
   "source": [
    "name= input(\"enter your name\")\n",
    "match (name):\n",
    "    case 'ajay':\n",
    "        print('welcome mr. ajay')\n",
    "    case 'vijay' | 'anuj':\n",
    "        print('welcome are the caterers')\n",
    "\n",
    "    case 'rahul':\n",
    "        print('welcome you are the manager')\n",
    "    case 'ashish':\n",
    "        print('welcome you are not allowed')\n",
    "    case _:\n",
    "        print(\"I Don't know you\")"
   ]
  },
  {
   "cell_type": "markdown",
   "metadata": {},
   "source": [
    "# nested condition"
   ]
  },
  {
   "cell_type": "code",
   "execution_count": 16,
   "metadata": {},
   "outputs": [
    {
     "name": "stdout",
     "output_type": "stream",
     "text": [
      "welcome akash 😎\n"
     ]
    }
   ],
   "source": [
    "username = input('enter the username:')\n",
    "password = input('enter the password:')\n",
    "\n",
    "if len(username)>0:\n",
    "    if len(password)>0:\n",
    "        if username=='akash':\n",
    "            if password == 'admin':\n",
    "                print('welcome akash 😎')\n",
    "            else:\n",
    "                print('invalid passworrd')\n",
    "        else:\n",
    "            print('invalid username')\n",
    "    else:\n",
    "        print('password is required')\n",
    "else:\n",
    "        print('username is required')\n",
    "\n"
   ]
  },
  {
   "cell_type": "markdown",
   "metadata": {},
   "source": [
    "# ternary conditional operator"
   ]
  },
  {
   "cell_type": "code",
   "execution_count": 17,
   "metadata": {},
   "outputs": [
    {
     "name": "stdout",
     "output_type": "stream",
     "text": [
      "name ok\n"
     ]
    }
   ],
   "source": [
    "name= input('enter your name')\n",
    "print('name is too big' if len(name)>10 else \"name ok\")"
   ]
  },
  {
   "cell_type": "code",
   "execution_count": 18,
   "metadata": {},
   "outputs": [
    {
     "data": {
      "text/plain": [
       "'even'"
      ]
     },
     "execution_count": 18,
     "metadata": {},
     "output_type": "execute_result"
    }
   ],
   "source": [
    "x=10\n",
    "'even' if x % 2 == 0 else 'odd'"
   ]
  },
  {
   "cell_type": "markdown",
   "metadata": {},
   "source": []
  }
 ],
 "metadata": {
  "kernelspec": {
   "display_name": "base",
   "language": "python",
   "name": "python3"
  },
  "language_info": {
   "codemirror_mode": {
    "name": "ipython",
    "version": 3
   },
   "file_extension": ".py",
   "mimetype": "text/x-python",
   "name": "python",
   "nbconvert_exporter": "python",
   "pygments_lexer": "ipython3",
   "version": "3.11.4"
  }
 },
 "nbformat": 4,
 "nbformat_minor": 2
}
